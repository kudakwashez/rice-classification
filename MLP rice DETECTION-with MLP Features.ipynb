{
 "cells": [
  {
   "cell_type": "code",
   "execution_count": 1,
   "metadata": {},
   "outputs": [],
   "source": [
    "from __future__ import print_function\n",
    "import numpy as np \n",
    "import pandas as pd \n",
    "import seaborn as sns\n",
    "import matplotlib.pyplot as plt\n",
    "from sklearn.metrics import confusion_matrix\n",
    "import keras\n",
    "from sklearn.decomposition import PCA\n",
    "from keras.datasets import mnist\n",
    "from keras.models import Sequential, Model\n",
    "from keras.layers import Dense, Dropout\n",
    "from keras.optimizers import RMSprop, Adam, Nadam\n",
    "import time\n",
    "import os\n",
    "#print(os.listdir(\"./npy_landuse\"))"
   ]
  },
  {
   "cell_type": "code",
   "execution_count": 2,
   "metadata": {},
   "outputs": [],
   "source": [
    "batch_size = 128\n",
    "num_classes = 5\n",
    "epochs = 10"
   ]
  },
  {
   "cell_type": "code",
   "execution_count": 3,
   "metadata": {},
   "outputs": [],
   "source": [
    "x_train = np.load('./npy_rice64/x_train.npy')\n",
    "y_train = np.load('./npy_rice64/y_train.npy')\n",
    "x_test=np.load('./npy_rice64/x_test.npy')\n",
    "y_test=np.load('./npy_rice64/y_test.npy')"
   ]
  },
  {
   "cell_type": "code",
   "execution_count": 4,
   "metadata": {},
   "outputs": [
    {
     "data": {
      "text/plain": [
       "(45000, 64, 64)"
      ]
     },
     "execution_count": 4,
     "metadata": {},
     "output_type": "execute_result"
    }
   ],
   "source": [
    "x_train.shape"
   ]
  },
  {
   "cell_type": "code",
   "execution_count": 5,
   "metadata": {},
   "outputs": [
    {
     "data": {
      "text/plain": [
       "(30000, 64, 64)"
      ]
     },
     "execution_count": 5,
     "metadata": {},
     "output_type": "execute_result"
    }
   ],
   "source": [
    "x_test.shape"
   ]
  },
  {
   "cell_type": "code",
   "execution_count": 6,
   "metadata": {},
   "outputs": [
    {
     "data": {
      "text/plain": [
       "(30000, 5)"
      ]
     },
     "execution_count": 6,
     "metadata": {},
     "output_type": "execute_result"
    }
   ],
   "source": [
    "y_test.shape"
   ]
  },
  {
   "cell_type": "code",
   "execution_count": 8,
   "metadata": {},
   "outputs": [],
   "source": [
    "# Change from matrix to array --> dimension 64x64 to array of dimention 4096\n",
    "x_train = x_train.reshape(45000, 4096)\n",
    "x_test = x_test.reshape(30000, 4096)"
   ]
  },
  {
   "cell_type": "code",
   "execution_count": 9,
   "metadata": {},
   "outputs": [
    {
     "data": {
      "text/plain": [
       "(30000, 5)"
      ]
     },
     "execution_count": 9,
     "metadata": {},
     "output_type": "execute_result"
    }
   ],
   "source": [
    "y_test.shape"
   ]
  },
  {
   "cell_type": "code",
   "execution_count": 10,
   "metadata": {},
   "outputs": [
    {
     "name": "stdout",
     "output_type": "stream",
     "text": [
      "45000 train samples\n",
      "30000 test samples\n"
     ]
    }
   ],
   "source": [
    "# Change to float datatype\n",
    "x_train = x_train.astype('float32')\n",
    "x_test = x_test.astype('float32')\n",
    "# Scale the data to lie between 0 to 1\n",
    "x_train /= 255\n",
    "x_test /= 255\n",
    "print(x_train.shape[0], 'train samples')\n",
    "print(x_test.shape[0], 'test samples')"
   ]
  },
  {
   "cell_type": "code",
   "execution_count": 11,
   "metadata": {},
   "outputs": [],
   "source": [
    "# PCA\n",
    "pca = PCA(n_components=100)\n",
    "\n",
    "x_train=pca.fit_transform(x_train)\n",
    "x_test= pca.transform(x_test)"
   ]
  },
  {
   "cell_type": "code",
   "execution_count": 14,
   "metadata": {},
   "outputs": [
    {
     "name": "stdout",
     "output_type": "stream",
     "text": [
      "Model: \"sequential_1\"\n",
      "_________________________________________________________________\n",
      "Layer (type)                 Output Shape              Param #   \n",
      "=================================================================\n",
      "dense_3 (Dense)              (None, 512)               51712     \n",
      "_________________________________________________________________\n",
      "dropout_2 (Dropout)          (None, 512)               0         \n",
      "_________________________________________________________________\n",
      "dense_4 (Dense)              (None, 512)               262656    \n",
      "_________________________________________________________________\n",
      "dropout_3 (Dropout)          (None, 512)               0         \n",
      "_________________________________________________________________\n",
      "dense_5 (Dense)              (None, 5)                 2565      \n",
      "=================================================================\n",
      "Total params: 316,933\n",
      "Trainable params: 316,933\n",
      "Non-trainable params: 0\n",
      "_________________________________________________________________\n"
     ]
    }
   ],
   "source": [
    "#                      BUILDING THE MODEL\n",
    "model = Sequential()\n",
    "model.add(Dense(512, activation='relu', input_shape=(100,)))\n",
    "model.add(Dropout(0.2))\n",
    "model.add(Dense(512, activation='relu'))\n",
    "model.add(Dropout(0.2))\n",
    "model.add(Dense(num_classes, activation='softmax'))\n",
    "\n",
    "model.summary()\n",
    "nadam=keras.optimizers.Adam(lr=0.0005)\n",
    "model.compile(loss='categorical_crossentropy',\n",
    "              optimizer=nadam,\n",
    "              metrics=['accuracy'])"
   ]
  },
  {
   "cell_type": "code",
   "execution_count": 15,
   "metadata": {},
   "outputs": [
    {
     "name": "stdout",
     "output_type": "stream",
     "text": [
      "Epoch 1/100\n",
      "352/352 [==============================] - 3s 9ms/step - loss: 0.6785 - accuracy: 0.8453 - val_loss: 0.1907 - val_accuracy: 0.9491\n",
      "Epoch 2/100\n",
      "352/352 [==============================] - 3s 8ms/step - loss: 0.1502 - accuracy: 0.9553 - val_loss: 0.1164 - val_accuracy: 0.9637\n",
      "Epoch 3/100\n",
      "352/352 [==============================] - 3s 8ms/step - loss: 0.1126 - accuracy: 0.9632 - val_loss: 0.1047 - val_accuracy: 0.9642\n",
      "Epoch 4/100\n",
      "352/352 [==============================] - 3s 8ms/step - loss: 0.0993 - accuracy: 0.9669 - val_loss: 0.0964 - val_accuracy: 0.9668\n",
      "Epoch 5/100\n",
      "352/352 [==============================] - 3s 8ms/step - loss: 0.0917 - accuracy: 0.9691 - val_loss: 0.0866 - val_accuracy: 0.9705\n",
      "Epoch 6/100\n",
      "352/352 [==============================] - 3s 8ms/step - loss: 0.0866 - accuracy: 0.9706 - val_loss: 0.0826 - val_accuracy: 0.9720\n",
      "Epoch 7/100\n",
      "352/352 [==============================] - 3s 8ms/step - loss: 0.0816 - accuracy: 0.9724 - val_loss: 0.0829 - val_accuracy: 0.9711\n",
      "Epoch 8/100\n",
      "352/352 [==============================] - 3s 8ms/step - loss: 0.0800 - accuracy: 0.9725 - val_loss: 0.0785 - val_accuracy: 0.9736\n",
      "Epoch 9/100\n",
      "352/352 [==============================] - 3s 8ms/step - loss: 0.0764 - accuracy: 0.9731 - val_loss: 0.0787 - val_accuracy: 0.9728\n",
      "Epoch 10/100\n",
      "352/352 [==============================] - 3s 8ms/step - loss: 0.0758 - accuracy: 0.9738 - val_loss: 0.0771 - val_accuracy: 0.9731\n",
      "Epoch 11/100\n",
      "352/352 [==============================] - 3s 8ms/step - loss: 0.0750 - accuracy: 0.9739 - val_loss: 0.0796 - val_accuracy: 0.9721\n",
      "Epoch 12/100\n",
      "352/352 [==============================] - 3s 8ms/step - loss: 0.0741 - accuracy: 0.9748 - val_loss: 0.0829 - val_accuracy: 0.9715\n",
      "Epoch 13/100\n",
      "352/352 [==============================] - 3s 8ms/step - loss: 0.0741 - accuracy: 0.9745 - val_loss: 0.0786 - val_accuracy: 0.9732\n",
      "Epoch 14/100\n",
      "352/352 [==============================] - 3s 8ms/step - loss: 0.0732 - accuracy: 0.9745 - val_loss: 0.0758 - val_accuracy: 0.9738\n",
      "Epoch 15/100\n",
      "352/352 [==============================] - 3s 8ms/step - loss: 0.0716 - accuracy: 0.9750 - val_loss: 0.0766 - val_accuracy: 0.9732\n",
      "Epoch 16/100\n",
      "352/352 [==============================] - 3s 8ms/step - loss: 0.0711 - accuracy: 0.9752 - val_loss: 0.0769 - val_accuracy: 0.9735\n",
      "Epoch 17/100\n",
      "352/352 [==============================] - 3s 8ms/step - loss: 0.0716 - accuracy: 0.9756 - val_loss: 0.0730 - val_accuracy: 0.9747\n",
      "Epoch 18/100\n",
      "352/352 [==============================] - 3s 9ms/step - loss: 0.0698 - accuracy: 0.9757 - val_loss: 0.0726 - val_accuracy: 0.9752\n",
      "Epoch 19/100\n",
      "352/352 [==============================] - 3s 9ms/step - loss: 0.0703 - accuracy: 0.9757 - val_loss: 0.0740 - val_accuracy: 0.9740\n",
      "Epoch 20/100\n",
      "352/352 [==============================] - 3s 8ms/step - loss: 0.0684 - accuracy: 0.9760 - val_loss: 0.0792 - val_accuracy: 0.9736\n",
      "Epoch 21/100\n",
      "352/352 [==============================] - 3s 8ms/step - loss: 0.0677 - accuracy: 0.9764 - val_loss: 0.0728 - val_accuracy: 0.9749\n",
      "Epoch 22/100\n",
      "352/352 [==============================] - 3s 8ms/step - loss: 0.0681 - accuracy: 0.9766 - val_loss: 0.0723 - val_accuracy: 0.9744\n",
      "Epoch 23/100\n",
      "352/352 [==============================] - 3s 8ms/step - loss: 0.0662 - accuracy: 0.9765 - val_loss: 0.0718 - val_accuracy: 0.9751\n",
      "Epoch 24/100\n",
      "352/352 [==============================] - 3s 8ms/step - loss: 0.0661 - accuracy: 0.9769 - val_loss: 0.0720 - val_accuracy: 0.9751\n",
      "Epoch 25/100\n",
      "352/352 [==============================] - 3s 8ms/step - loss: 0.0666 - accuracy: 0.9764 - val_loss: 0.0770 - val_accuracy: 0.9734\n",
      "Epoch 26/100\n",
      "352/352 [==============================] - 3s 8ms/step - loss: 0.0664 - accuracy: 0.9766 - val_loss: 0.0700 - val_accuracy: 0.9759\n",
      "Epoch 27/100\n",
      "352/352 [==============================] - 3s 8ms/step - loss: 0.0638 - accuracy: 0.9779 - val_loss: 0.0734 - val_accuracy: 0.9752\n",
      "Epoch 28/100\n",
      "352/352 [==============================] - 3s 8ms/step - loss: 0.0641 - accuracy: 0.9776 - val_loss: 0.0702 - val_accuracy: 0.9765\n",
      "Epoch 29/100\n",
      "352/352 [==============================] - 3s 8ms/step - loss: 0.0633 - accuracy: 0.9776 - val_loss: 0.0721 - val_accuracy: 0.9756\n",
      "Epoch 30/100\n",
      "352/352 [==============================] - 3s 8ms/step - loss: 0.0636 - accuracy: 0.9779 - val_loss: 0.0728 - val_accuracy: 0.9751\n",
      "Epoch 31/100\n",
      "352/352 [==============================] - 3s 8ms/step - loss: 0.0631 - accuracy: 0.9783 - val_loss: 0.0704 - val_accuracy: 0.9757\n",
      "Epoch 32/100\n",
      "352/352 [==============================] - 3s 8ms/step - loss: 0.0622 - accuracy: 0.9786 - val_loss: 0.0699 - val_accuracy: 0.9763\n",
      "Epoch 33/100\n",
      "352/352 [==============================] - 3s 8ms/step - loss: 0.0611 - accuracy: 0.9792 - val_loss: 0.0678 - val_accuracy: 0.9762\n",
      "Epoch 34/100\n",
      "352/352 [==============================] - 3s 8ms/step - loss: 0.0619 - accuracy: 0.9786 - val_loss: 0.0681 - val_accuracy: 0.9764\n",
      "Epoch 35/100\n",
      "352/352 [==============================] - 3s 8ms/step - loss: 0.0605 - accuracy: 0.9787 - val_loss: 0.0723 - val_accuracy: 0.9748\n",
      "Epoch 36/100\n",
      "352/352 [==============================] - 3s 8ms/step - loss: 0.0605 - accuracy: 0.9789 - val_loss: 0.0698 - val_accuracy: 0.9764\n",
      "Epoch 37/100\n",
      "352/352 [==============================] - 3s 8ms/step - loss: 0.0593 - accuracy: 0.9790 - val_loss: 0.0683 - val_accuracy: 0.9764\n",
      "Epoch 38/100\n",
      "352/352 [==============================] - 3s 8ms/step - loss: 0.0583 - accuracy: 0.9792 - val_loss: 0.0726 - val_accuracy: 0.9747\n",
      "Epoch 39/100\n",
      "352/352 [==============================] - 3s 9ms/step - loss: 0.0586 - accuracy: 0.9795 - val_loss: 0.0714 - val_accuracy: 0.9755\n",
      "Epoch 40/100\n",
      "352/352 [==============================] - 3s 8ms/step - loss: 0.0587 - accuracy: 0.9796 - val_loss: 0.0678 - val_accuracy: 0.9765\n",
      "Epoch 41/100\n",
      "352/352 [==============================] - 3s 8ms/step - loss: 0.0584 - accuracy: 0.9790 - val_loss: 0.0668 - val_accuracy: 0.9756\n",
      "Epoch 42/100\n",
      "352/352 [==============================] - 3s 8ms/step - loss: 0.0569 - accuracy: 0.9798 - val_loss: 0.0664 - val_accuracy: 0.9770\n",
      "Epoch 43/100\n",
      "352/352 [==============================] - 3s 8ms/step - loss: 0.0579 - accuracy: 0.9794 - val_loss: 0.0670 - val_accuracy: 0.9770\n",
      "Epoch 44/100\n",
      "352/352 [==============================] - 3s 8ms/step - loss: 0.0575 - accuracy: 0.9800 - val_loss: 0.0689 - val_accuracy: 0.9765\n",
      "Epoch 45/100\n",
      "352/352 [==============================] - 3s 8ms/step - loss: 0.0565 - accuracy: 0.9802 - val_loss: 0.0676 - val_accuracy: 0.9764\n",
      "Epoch 46/100\n",
      "352/352 [==============================] - 3s 8ms/step - loss: 0.0573 - accuracy: 0.9796 - val_loss: 0.0673 - val_accuracy: 0.9766\n",
      "Epoch 47/100\n",
      "352/352 [==============================] - 3s 8ms/step - loss: 0.0561 - accuracy: 0.9808 - val_loss: 0.0667 - val_accuracy: 0.9771\n",
      "Epoch 48/100\n",
      "352/352 [==============================] - 3s 8ms/step - loss: 0.0553 - accuracy: 0.9804 - val_loss: 0.0662 - val_accuracy: 0.9766\n",
      "Epoch 49/100\n",
      "352/352 [==============================] - 3s 8ms/step - loss: 0.0553 - accuracy: 0.9806 - val_loss: 0.0666 - val_accuracy: 0.9778\n",
      "Epoch 50/100\n",
      "352/352 [==============================] - 3s 8ms/step - loss: 0.0546 - accuracy: 0.9811 - val_loss: 0.0667 - val_accuracy: 0.9770\n",
      "Epoch 51/100\n",
      "352/352 [==============================] - 3s 8ms/step - loss: 0.0546 - accuracy: 0.9813 - val_loss: 0.0669 - val_accuracy: 0.9772\n",
      "Epoch 52/100\n",
      "352/352 [==============================] - 3s 8ms/step - loss: 0.0539 - accuracy: 0.9814 - val_loss: 0.0705 - val_accuracy: 0.9753\n",
      "Epoch 53/100\n",
      "352/352 [==============================] - 3s 8ms/step - loss: 0.0544 - accuracy: 0.9811 - val_loss: 0.0745 - val_accuracy: 0.9745\n",
      "Epoch 54/100\n",
      "352/352 [==============================] - 3s 8ms/step - loss: 0.0530 - accuracy: 0.9809 - val_loss: 0.0675 - val_accuracy: 0.9773\n",
      "Epoch 55/100\n",
      "352/352 [==============================] - 3s 8ms/step - loss: 0.0540 - accuracy: 0.9812 - val_loss: 0.0650 - val_accuracy: 0.9778\n",
      "Epoch 56/100\n",
      "352/352 [==============================] - 3s 8ms/step - loss: 0.0535 - accuracy: 0.9812 - val_loss: 0.0652 - val_accuracy: 0.9774\n",
      "Epoch 57/100\n",
      "352/352 [==============================] - 3s 8ms/step - loss: 0.0530 - accuracy: 0.9813 - val_loss: 0.0701 - val_accuracy: 0.9761\n"
     ]
    },
    {
     "name": "stdout",
     "output_type": "stream",
     "text": [
      "Epoch 58/100\n",
      "352/352 [==============================] - 3s 8ms/step - loss: 0.0523 - accuracy: 0.9816 - val_loss: 0.0672 - val_accuracy: 0.9768\n",
      "Epoch 59/100\n",
      "352/352 [==============================] - 3s 8ms/step - loss: 0.0525 - accuracy: 0.9820 - val_loss: 0.0698 - val_accuracy: 0.9760\n",
      "Epoch 60/100\n",
      "352/352 [==============================] - 3s 8ms/step - loss: 0.0518 - accuracy: 0.9820 - val_loss: 0.0646 - val_accuracy: 0.9781\n",
      "Epoch 61/100\n",
      "352/352 [==============================] - 3s 8ms/step - loss: 0.0509 - accuracy: 0.9819 - val_loss: 0.0688 - val_accuracy: 0.9765\n",
      "Epoch 62/100\n",
      "352/352 [==============================] - 3s 8ms/step - loss: 0.0508 - accuracy: 0.9824 - val_loss: 0.0662 - val_accuracy: 0.9769\n",
      "Epoch 63/100\n",
      "352/352 [==============================] - 3s 8ms/step - loss: 0.0507 - accuracy: 0.9823 - val_loss: 0.0666 - val_accuracy: 0.9774\n",
      "Epoch 64/100\n",
      "352/352 [==============================] - 3s 8ms/step - loss: 0.0506 - accuracy: 0.9820 - val_loss: 0.0669 - val_accuracy: 0.9767\n",
      "Epoch 65/100\n",
      "352/352 [==============================] - 3s 8ms/step - loss: 0.0499 - accuracy: 0.9824 - val_loss: 0.0664 - val_accuracy: 0.9780\n",
      "Epoch 66/100\n",
      "352/352 [==============================] - 3s 8ms/step - loss: 0.0498 - accuracy: 0.9824 - val_loss: 0.0698 - val_accuracy: 0.9767\n",
      "Epoch 67/100\n",
      "352/352 [==============================] - 3s 8ms/step - loss: 0.0499 - accuracy: 0.9825 - val_loss: 0.0671 - val_accuracy: 0.9779\n",
      "Epoch 68/100\n",
      "352/352 [==============================] - 3s 8ms/step - loss: 0.0508 - accuracy: 0.9819 - val_loss: 0.0674 - val_accuracy: 0.9768\n",
      "Epoch 69/100\n",
      "352/352 [==============================] - 3s 8ms/step - loss: 0.0500 - accuracy: 0.9822 - val_loss: 0.0688 - val_accuracy: 0.9764\n",
      "Epoch 70/100\n",
      "352/352 [==============================] - 3s 8ms/step - loss: 0.0493 - accuracy: 0.9827 - val_loss: 0.0666 - val_accuracy: 0.9770\n",
      "Epoch 71/100\n",
      "352/352 [==============================] - 3s 8ms/step - loss: 0.0491 - accuracy: 0.9823 - val_loss: 0.0662 - val_accuracy: 0.9773\n",
      "Epoch 72/100\n",
      "352/352 [==============================] - 3s 8ms/step - loss: 0.0490 - accuracy: 0.9824 - val_loss: 0.0656 - val_accuracy: 0.9776\n",
      "Epoch 73/100\n",
      "352/352 [==============================] - 3s 8ms/step - loss: 0.0484 - accuracy: 0.9822 - val_loss: 0.0685 - val_accuracy: 0.9771\n",
      "Epoch 74/100\n",
      "352/352 [==============================] - 3s 8ms/step - loss: 0.0486 - accuracy: 0.9830 - val_loss: 0.0661 - val_accuracy: 0.9778\n",
      "Epoch 75/100\n",
      "352/352 [==============================] - 3s 8ms/step - loss: 0.0486 - accuracy: 0.9824 - val_loss: 0.0671 - val_accuracy: 0.9776\n",
      "Epoch 76/100\n",
      "352/352 [==============================] - 3s 8ms/step - loss: 0.0473 - accuracy: 0.9833 - val_loss: 0.0651 - val_accuracy: 0.9786\n",
      "Epoch 77/100\n",
      "352/352 [==============================] - 3s 8ms/step - loss: 0.0470 - accuracy: 0.9837 - val_loss: 0.0655 - val_accuracy: 0.9783\n",
      "Epoch 78/100\n",
      "352/352 [==============================] - 3s 8ms/step - loss: 0.0467 - accuracy: 0.9832 - val_loss: 0.0674 - val_accuracy: 0.9780\n",
      "Epoch 79/100\n",
      "352/352 [==============================] - 3s 8ms/step - loss: 0.0460 - accuracy: 0.9838 - val_loss: 0.0666 - val_accuracy: 0.9772\n",
      "Epoch 80/100\n",
      "352/352 [==============================] - 3s 8ms/step - loss: 0.0452 - accuracy: 0.9844 - val_loss: 0.0653 - val_accuracy: 0.9780\n",
      "Epoch 81/100\n",
      "352/352 [==============================] - 3s 8ms/step - loss: 0.0453 - accuracy: 0.9839 - val_loss: 0.0675 - val_accuracy: 0.9771\n",
      "Epoch 82/100\n",
      "352/352 [==============================] - 3s 8ms/step - loss: 0.0451 - accuracy: 0.9843 - val_loss: 0.0680 - val_accuracy: 0.9773\n",
      "Epoch 83/100\n",
      "352/352 [==============================] - 3s 8ms/step - loss: 0.0457 - accuracy: 0.9838 - val_loss: 0.0654 - val_accuracy: 0.9778\n",
      "Epoch 84/100\n",
      "352/352 [==============================] - 3s 8ms/step - loss: 0.0449 - accuracy: 0.9841 - val_loss: 0.0656 - val_accuracy: 0.9780\n",
      "Epoch 85/100\n",
      "352/352 [==============================] - 3s 8ms/step - loss: 0.0450 - accuracy: 0.9841 - val_loss: 0.0657 - val_accuracy: 0.9773\n",
      "Epoch 86/100\n",
      "352/352 [==============================] - 3s 8ms/step - loss: 0.0438 - accuracy: 0.9849 - val_loss: 0.0665 - val_accuracy: 0.9784\n",
      "Epoch 87/100\n",
      "352/352 [==============================] - 3s 8ms/step - loss: 0.0456 - accuracy: 0.9838 - val_loss: 0.0661 - val_accuracy: 0.9781\n",
      "Epoch 88/100\n",
      "352/352 [==============================] - 3s 9ms/step - loss: 0.0441 - accuracy: 0.9840 - val_loss: 0.0682 - val_accuracy: 0.9786\n",
      "Epoch 89/100\n",
      "352/352 [==============================] - 3s 8ms/step - loss: 0.0444 - accuracy: 0.9838 - val_loss: 0.0688 - val_accuracy: 0.9774\n",
      "Epoch 90/100\n",
      "352/352 [==============================] - 3s 9ms/step - loss: 0.0441 - accuracy: 0.9841 - val_loss: 0.0660 - val_accuracy: 0.9781\n",
      "Epoch 91/100\n",
      "352/352 [==============================] - 3s 8ms/step - loss: 0.0434 - accuracy: 0.9849 - val_loss: 0.0640 - val_accuracy: 0.9785\n",
      "Epoch 92/100\n",
      "352/352 [==============================] - 3s 8ms/step - loss: 0.0430 - accuracy: 0.9851 - val_loss: 0.0644 - val_accuracy: 0.9783\n",
      "Epoch 93/100\n",
      "352/352 [==============================] - 3s 8ms/step - loss: 0.0440 - accuracy: 0.9842 - val_loss: 0.0664 - val_accuracy: 0.9791\n",
      "Epoch 94/100\n",
      "352/352 [==============================] - 3s 8ms/step - loss: 0.0429 - accuracy: 0.9850 - val_loss: 0.0677 - val_accuracy: 0.9777\n",
      "Epoch 95/100\n",
      "352/352 [==============================] - 3s 8ms/step - loss: 0.0432 - accuracy: 0.9847 - val_loss: 0.0662 - val_accuracy: 0.9780\n",
      "Epoch 96/100\n",
      "352/352 [==============================] - 3s 9ms/step - loss: 0.0424 - accuracy: 0.9851 - val_loss: 0.0666 - val_accuracy: 0.9776\n",
      "Epoch 97/100\n",
      "352/352 [==============================] - 3s 9ms/step - loss: 0.0416 - accuracy: 0.9850 - val_loss: 0.0702 - val_accuracy: 0.9758\n",
      "Epoch 98/100\n",
      "352/352 [==============================] - 3s 9ms/step - loss: 0.0419 - accuracy: 0.9853 - val_loss: 0.0658 - val_accuracy: 0.9790\n",
      "Epoch 99/100\n",
      "352/352 [==============================] - 3s 8ms/step - loss: 0.0424 - accuracy: 0.9847 - val_loss: 0.0689 - val_accuracy: 0.9764\n",
      "Epoch 100/100\n",
      "352/352 [==============================] - 3s 8ms/step - loss: 0.0417 - accuracy: 0.9852 - val_loss: 0.0674 - val_accuracy: 0.9787\n",
      "296.3841733932495\n"
     ]
    }
   ],
   "source": [
    "start = time.time() # Measuring the processing time\n",
    "#                      TRAINING THE MODEL\n",
    "history = model.fit(x_train, y_train,\n",
    "                    batch_size=batch_size,\n",
    "                    epochs=100,\n",
    "                    verbose=1,\n",
    "                    validation_data=(x_test, y_test))\n",
    "end = time.time()\n",
    "print(end - start)\n"
   ]
  },
  {
   "cell_type": "code",
   "execution_count": 16,
   "metadata": {},
   "outputs": [
    {
     "name": "stdout",
     "output_type": "stream",
     "text": [
      "Test loss: 0.06737837940454483\n",
      "Test accuracy: 0.9787333607673645\n"
     ]
    }
   ],
   "source": [
    "#                      EVALUATE TRAINED MODEL\n",
    "score = model.evaluate(x_test, y_test, verbose=0)\n",
    "print('Test loss:', score[0])\n",
    "print('Test accuracy:', score[1])"
   ]
  },
  {
   "cell_type": "code",
   "execution_count": 17,
   "metadata": {},
   "outputs": [],
   "source": [
    "model.save('mlp_weights_1.h5')"
   ]
  },
  {
   "cell_type": "code",
   "execution_count": 18,
   "metadata": {},
   "outputs": [],
   "source": [
    "model.load_weights('mlp_weights_1.h5')"
   ]
  },
  {
   "cell_type": "code",
   "execution_count": 20,
   "metadata": {},
   "outputs": [
    {
     "name": "stdout",
     "output_type": "stream",
     "text": [
      "(45000, 5)\n",
      "(30000, 5)\n"
     ]
    }
   ],
   "source": [
    "model_feat = Model(inputs=model.input,outputs=model.get_layer('dense_5').output)\n",
    "\n",
    "feat_train = model_feat.predict(x_train)\n",
    "print(feat_train.shape)\n",
    "\n",
    "#feat_val = model_feat.predict(x_val)\n",
    "#print(feat_val.shape)\n",
    "\n",
    "feat_test = model_feat.predict(x_test)\n",
    "print(feat_test.shape)"
   ]
  },
  {
   "cell_type": "code",
   "execution_count": 21,
   "metadata": {},
   "outputs": [],
   "source": [
    "from keras import metrics\n",
    "from sklearn.metrics import confusion_matrix"
   ]
  },
  {
   "cell_type": "code",
   "execution_count": 22,
   "metadata": {},
   "outputs": [
    {
     "name": "stdout",
     "output_type": "stream",
     "text": [
      "WARNING:tensorflow:From <ipython-input-22-dba21467f350>:1: Sequential.predict_classes (from tensorflow.python.keras.engine.sequential) is deprecated and will be removed after 2021-01-01.\n",
      "Instructions for updating:\n",
      "Please use instead:* `np.argmax(model.predict(x), axis=-1)`,   if your model does multi-class classification   (e.g. if it uses a `softmax` last-layer activation).* `(model.predict(x) > 0.5).astype(\"int32\")`,   if your model does binary classification   (e.g. if it uses a `sigmoid` last-layer activation).\n"
     ]
    }
   ],
   "source": [
    "pred = model.predict_classes(x_test)"
   ]
  },
  {
   "cell_type": "code",
   "execution_count": 23,
   "metadata": {},
   "outputs": [
    {
     "data": {
      "text/plain": [
       "array([[5821,    1,   12,    8,  135],\n",
       "       [   0, 5857,    0,  110,    0],\n",
       "       [   2,    0, 5903,    7,    0],\n",
       "       [  20,  138,   25, 5892,    0],\n",
       "       [ 180,    0,    0,    0, 5889]], dtype=int64)"
      ]
     },
     "execution_count": 23,
     "metadata": {},
     "output_type": "execute_result"
    }
   ],
   "source": [
    "confusion_matrix(pred, np.argmax(y_test,axis =1))"
   ]
  },
  {
   "cell_type": "code",
   "execution_count": 24,
   "metadata": {},
   "outputs": [],
   "source": [
    "import seaborn as sns"
   ]
  },
  {
   "cell_type": "code",
   "execution_count": 25,
   "metadata": {},
   "outputs": [],
   "source": [
    "def plot_heatmap(cm,title):\n",
    "    df_cm2 = pd.DataFrame(cm, index = ['Arborio', 'Basmati','Ipsala','Jasmine','Karacadag'])\n",
    "    df_cm2.columns=['Arborio', 'Basmati','Ipsala','Jasmine','Karacadag']\n",
    "    f,ax = plt.subplots(figsize=(12, 12))\n",
    "    #ax = plt.axes()\n",
    "    sns.heatmap(df_cm2, annot=True, fmt=\"d\", linewidths=.5,ax=ax)\n",
    "    ax.set_title(title)\n",
    "    plt.show()    \n",
    "    return"
   ]
  },
  {
   "cell_type": "code",
   "execution_count": 26,
   "metadata": {},
   "outputs": [
    {
     "data": {
      "image/png": "[encoded data removed]",
      "text/plain": [
       "<Figure size 864x864 with 2 Axes>"
      ]
     },
     "metadata": {
      "needs_background": "light"
     },
     "output_type": "display_data"
    }
   ],
   "source": [
    "plot_heatmap(confusion_matrix(pred, np.argmax(y_test,axis =1)),'MLP')"
   ]
  },
  {
   "cell_type": "code",
   "execution_count": 28,
   "metadata": {},
   "outputs": [
    {
     "name": "stdout",
     "output_type": "stream",
     "text": [
      "              precision    recall  f1-score   support\n",
      "\n",
      "           0     0.9665    0.9739    0.9702      5977\n",
      "           1     0.9768    0.9816    0.9792      5967\n",
      "           2     0.9938    0.9985    0.9961      5912\n",
      "           3     0.9792    0.9699    0.9745      6075\n",
      "           4     0.9776    0.9703    0.9740      6069\n",
      "\n",
      "    accuracy                         0.9787     30000\n",
      "   macro avg     0.9788    0.9788    0.9788     30000\n",
      "weighted avg     0.9787    0.9787    0.9787     30000\n",
      "\n"
     ]
    }
   ],
   "source": [
    "from sklearn.metrics import classification_report\n",
    "print(classification_report(pred, np.argmax(y_test,axis =1),digits=4))"
   ]
  },
  {
   "cell_type": "code",
   "execution_count": 29,
   "metadata": {},
   "outputs": [
    {
     "name": "stdout",
     "output_type": "stream",
     "text": [
      "2.1870415210723877\n",
      "fitting done !!!\n"
     ]
    }
   ],
   "source": [
    "from sklearn.svm import SVC\n",
    "\n",
    "svm = SVC(kernel='rbf')\n",
    "start = time.time() # Measuring the processing time\n",
    "svm.fit(feat_train,np.argmax(y_train,axis=1))\n",
    "end = time.time()\n",
    "print(end - start)\n",
    "\n",
    "\n",
    "print('fitting done !!!')"
   ]
  },
  {
   "cell_type": "code",
   "execution_count": 30,
   "metadata": {},
   "outputs": [
    {
     "data": {
      "text/plain": [
       "0.9881777777777778"
      ]
     },
     "execution_count": 30,
     "metadata": {},
     "output_type": "execute_result"
    }
   ],
   "source": [
    "svm.score(feat_train,np.argmax(y_train,axis=1))"
   ]
  },
  {
   "cell_type": "code",
   "execution_count": 31,
   "metadata": {},
   "outputs": [
    {
     "data": {
      "text/plain": [
       "0.9792333333333333"
      ]
     },
     "execution_count": 31,
     "metadata": {},
     "output_type": "execute_result"
    }
   ],
   "source": [
    "svm.score(feat_test,np.argmax(y_test,axis=1))"
   ]
  },
  {
   "cell_type": "code",
   "execution_count": 32,
   "metadata": {},
   "outputs": [],
   "source": [
    "Pred_labels = svm.predict(feat_test)"
   ]
  },
  {
   "cell_type": "code",
   "execution_count": 33,
   "metadata": {},
   "outputs": [
    {
     "data": {
      "image/png": "[encoded data removed]",
      "text/plain": [
       "<Figure size 864x864 with 2 Axes>"
      ]
     },
     "metadata": {
      "needs_background": "light"
     },
     "output_type": "display_data"
    }
   ],
   "source": [
    "plot_heatmap(confusion_matrix(pred, np.argmax(y_test,axis =1)),'SVM')"
   ]
  },
  {
   "cell_type": "code",
   "execution_count": 34,
   "metadata": {},
   "outputs": [
    {
     "name": "stdout",
     "output_type": "stream",
     "text": [
      "              precision    recall  f1-score   support\n",
      "\n",
      "           0     0.9685    0.9727    0.9705      5997\n",
      "           1     0.9802    0.9802    0.9802      5996\n",
      "           2     0.9944    0.9981    0.9963      5918\n",
      "           3     0.9772    0.9737    0.9754      6039\n",
      "           4     0.9761    0.9719    0.9740      6050\n",
      "\n",
      "    accuracy                         0.9792     30000\n",
      "   macro avg     0.9793    0.9793    0.9793     30000\n",
      "weighted avg     0.9792    0.9792    0.9792     30000\n",
      "\n"
     ]
    }
   ],
   "source": [
    "print(classification_report(Pred_labels, np.argmax(y_test,axis =1),digits=4))"
   ]
  },
  {
   "cell_type": "markdown",
   "metadata": {},
   "source": [
    "# Applying XGBOOST"
   ]
  },
  {
   "cell_type": "code",
   "execution_count": 35,
   "metadata": {},
   "outputs": [
    {
     "name": "stdout",
     "output_type": "stream",
     "text": [
      "6.098168611526489\n",
      "fitting done !!!\n"
     ]
    }
   ],
   "source": [
    "import xgboost as xgb\n",
    "\n",
    "xb = xgb.XGBClassifier()\n",
    "start = time.time() # Measuring the processing time\n",
    "xb.fit(feat_train,np.argmax(y_train,axis=1))\n",
    "end = time.time()\n",
    "print(end - start)\n",
    "\n",
    "print('fitting done !!!')"
   ]
  },
  {
   "cell_type": "code",
   "execution_count": 36,
   "metadata": {},
   "outputs": [
    {
     "data": {
      "text/plain": [
       "0.9989777777777777"
      ]
     },
     "execution_count": 36,
     "metadata": {},
     "output_type": "execute_result"
    }
   ],
   "source": [
    "xb.score(feat_train,np.argmax(y_train,axis=1))"
   ]
  },
  {
   "cell_type": "code",
   "execution_count": 37,
   "metadata": {},
   "outputs": [
    {
     "data": {
      "text/plain": [
       "0.9780333333333333"
      ]
     },
     "execution_count": 37,
     "metadata": {},
     "output_type": "execute_result"
    }
   ],
   "source": [
    "xb.score(feat_test,np.argmax(y_test,axis=1))"
   ]
  },
  {
   "cell_type": "code",
   "execution_count": 38,
   "metadata": {},
   "outputs": [],
   "source": [
    "Pred_labels = xb.predict(feat_test)"
   ]
  },
  {
   "cell_type": "code",
   "execution_count": 39,
   "metadata": {},
   "outputs": [
    {
     "data": {
      "image/png": "[encoded data removed]",
      "text/plain": [
       "<Figure size 864x864 with 2 Axes>"
      ]
     },
     "metadata": {
      "needs_background": "light"
     },
     "output_type": "display_data"
    }
   ],
   "source": [
    "plot_heatmap(confusion_matrix(pred, np.argmax(y_test,axis =1)),'XGB')"
   ]
  },
  {
   "cell_type": "code",
   "execution_count": 40,
   "metadata": {},
   "outputs": [
    {
     "name": "stdout",
     "output_type": "stream",
     "text": [
      "              precision    recall  f1-score   support\n",
      "\n",
      "           0     0.9678    0.9699    0.9688      6010\n",
      "           1     0.9782    0.9801    0.9791      5984\n",
      "           2     0.9941    0.9980    0.9960      5917\n",
      "           3     0.9764    0.9714    0.9739      6048\n",
      "           4     0.9739    0.9712    0.9726      6041\n",
      "\n",
      "    accuracy                         0.9780     30000\n",
      "   macro avg     0.9781    0.9781    0.9781     30000\n",
      "weighted avg     0.9780    0.9780    0.9780     30000\n",
      "\n"
     ]
    }
   ],
   "source": [
    "print(classification_report(Pred_labels, np.argmax(y_test,axis =1),digits=4))"
   ]
  },
  {
   "cell_type": "code",
   "execution_count": 41,
   "metadata": {},
   "outputs": [],
   "source": [
    "from sklearn.ensemble import RandomForestClassifier\n",
    "from sklearn.linear_model import LogisticRegression\n",
    "from sklearn.tree import DecisionTreeClassifier\n",
    "from sklearn.neighbors import KNeighborsClassifier\n",
    "from sklearn.discriminant_analysis import LinearDiscriminantAnalysis\n",
    "from sklearn.naive_bayes import GaussianNB\n",
    "from sklearn.svm import SVC\n",
    "from xgboost import XGBClassifier\n",
    "from sklearn.ensemble import BaggingClassifier, ExtraTreesClassifier\n",
    "from sklearn.ensemble import VotingClassifier\n",
    "from sklearn.ensemble import GradientBoostingClassifier\n",
    "from sklearn import model_selection"
   ]
  },
  {
   "cell_type": "code",
   "execution_count": 42,
   "metadata": {},
   "outputs": [
    {
     "name": "stdout",
     "output_type": "stream",
     "text": [
      "1.3285021781921387\n",
      "fitting done !!!\n"
     ]
    }
   ],
   "source": [
    "lr = LogisticRegression()\n",
    "start = time.time() # Measuring the processing time\n",
    "lr.fit(feat_train,np.argmax(y_train,axis=1))\n",
    "end = time.time()\n",
    "print(end - start)\n",
    "\n",
    "print('fitting done !!!')"
   ]
  },
  {
   "cell_type": "code",
   "execution_count": 43,
   "metadata": {},
   "outputs": [
    {
     "name": "stdout",
     "output_type": "stream",
     "text": [
      "              precision    recall  f1-score   support\n",
      "\n",
      "           0     0.9681    0.9725    0.9703      5996\n",
      "           1     0.9778    0.9809    0.9794      5977\n",
      "           2     0.9938    0.9981    0.9960      5914\n",
      "           3     0.9781    0.9711    0.9746      6060\n",
      "           4     0.9763    0.9716    0.9739      6053\n",
      "\n",
      "    accuracy                         0.9788     30000\n",
      "   macro avg     0.9788    0.9789    0.9788     30000\n",
      "weighted avg     0.9788    0.9788    0.9788     30000\n",
      "\n"
     ]
    }
   ],
   "source": [
    "Pred_labels = lr.predict(feat_test)\n",
    "print(classification_report(Pred_labels, np.argmax(y_test,axis =1),digits=4))"
   ]
  },
  {
   "cell_type": "code",
   "execution_count": 44,
   "metadata": {},
   "outputs": [
    {
     "data": {
      "image/png": "[encoded data removed]",
      "text/plain": [
       "<Figure size 864x864 with 2 Axes>"
      ]
     },
     "metadata": {
      "needs_background": "light"
     },
     "output_type": "display_data"
    }
   ],
   "source": [
    "plot_heatmap(confusion_matrix(pred, np.argmax(y_test,axis =1)),'LR')"
   ]
  },
  {
   "cell_type": "code",
   "execution_count": 45,
   "metadata": {},
   "outputs": [
    {
     "name": "stdout",
     "output_type": "stream",
     "text": [
      "0.1887526512145996\n",
      "fitting done !!!\n",
      "              precision    recall  f1-score   support\n",
      "\n",
      "           0     0.9616    0.9612    0.9614      6026\n",
      "           1     0.9735    0.9733    0.9734      5997\n",
      "           2     0.9941    0.9968    0.9954      5924\n",
      "           3     0.9688    0.9663    0.9675      6032\n",
      "           4     0.9648    0.9653    0.9650      6021\n",
      "\n",
      "    accuracy                         0.9725     30000\n",
      "   macro avg     0.9726    0.9726    0.9726     30000\n",
      "weighted avg     0.9725    0.9725    0.9725     30000\n",
      "\n"
     ]
    }
   ],
   "source": [
    "dt = DecisionTreeClassifier()\n",
    "start = time.time() # Measuring the processing time\n",
    "dt.fit(feat_train,np.argmax(y_train,axis=1))\n",
    "end = time.time()\n",
    "print(end - start)\n",
    "\n",
    "print('fitting done !!!')\n",
    "Pred_labels = dt.predict(feat_test)\n",
    "print(classification_report(Pred_labels, np.argmax(y_test,axis =1),digits=4))"
   ]
  },
  {
   "cell_type": "code",
   "execution_count": 46,
   "metadata": {},
   "outputs": [
    {
     "data": {
      "image/png": "[encoded data removed]",
      "text/plain": [
       "<Figure size 864x864 with 2 Axes>"
      ]
     },
     "metadata": {
      "needs_background": "light"
     },
     "output_type": "display_data"
    }
   ],
   "source": [
    "plot_heatmap(confusion_matrix(pred, np.argmax(y_test,axis =1)),'DT')"
   ]
  },
  {
   "cell_type": "code",
   "execution_count": 47,
   "metadata": {},
   "outputs": [
    {
     "name": "stdout",
     "output_type": "stream",
     "text": [
      "0.08626818656921387\n",
      "fitting done !!!\n",
      "              precision    recall  f1-score   support\n",
      "\n",
      "           0     0.9676    0.9688    0.9682      6016\n",
      "           1     0.9777    0.9796    0.9786      5984\n",
      "           2     0.9944    0.9980    0.9962      5919\n",
      "           3     0.9764    0.9714    0.9739      6048\n",
      "           4     0.9723    0.9708    0.9716      6033\n",
      "\n",
      "    accuracy                         0.9776     30000\n",
      "   macro avg     0.9777    0.9777    0.9777     30000\n",
      "weighted avg     0.9776    0.9776    0.9776     30000\n",
      "\n"
     ]
    }
   ],
   "source": [
    "knn = KNeighborsClassifier()\n",
    "start = time.time() # Measuring the processing time\n",
    "knn.fit(feat_train,np.argmax(y_train,axis=1))\n",
    "end = time.time()\n",
    "print(end - start)\n",
    "\n",
    "print('fitting done !!!')\n",
    "Pred_labels = knn.predict(feat_test)\n",
    "print(classification_report(Pred_labels, np.argmax(y_test,axis =1),digits=4))"
   ]
  },
  {
   "cell_type": "code",
   "execution_count": 48,
   "metadata": {},
   "outputs": [
    {
     "data": {
      "image/png": "[encoded data removed]",
      "text/plain": [
       "<Figure size 864x864 with 2 Axes>"
      ]
     },
     "metadata": {
      "needs_background": "light"
     },
     "output_type": "display_data"
    }
   ],
   "source": [
    "plot_heatmap(confusion_matrix(pred, np.argmax(y_test,axis =1)),'KNN')"
   ]
  },
  {
   "cell_type": "code",
   "execution_count": 49,
   "metadata": {},
   "outputs": [
    {
     "name": "stdout",
     "output_type": "stream",
     "text": [
      "0.049839019775390625\n",
      "fitting done !!!\n",
      "              precision    recall  f1-score   support\n",
      "\n",
      "           0     0.9665    0.9737    0.9701      5978\n",
      "           1     0.9772    0.9812    0.9792      5971\n",
      "           2     0.9938    0.9985    0.9961      5912\n",
      "           3     0.9789    0.9702    0.9745      6071\n",
      "           4     0.9774    0.9703    0.9739      6068\n",
      "\n",
      "    accuracy                         0.9787     30000\n",
      "   macro avg     0.9787    0.9788    0.9788     30000\n",
      "weighted avg     0.9787    0.9787    0.9787     30000\n",
      "\n"
     ]
    }
   ],
   "source": [
    "lda = LinearDiscriminantAnalysis()\n",
    "start = time.time() # Measuring the processing time\n",
    "lda.fit(feat_train,np.argmax(y_train,axis=1))\n",
    "end = time.time()\n",
    "print(end - start)\n",
    "\n",
    "print('fitting done !!!')\n",
    "Pred_labels = lda.predict(feat_test)\n",
    "print(classification_report(Pred_labels, np.argmax(y_test,axis =1),digits=4))"
   ]
  },
  {
   "cell_type": "code",
   "execution_count": 50,
   "metadata": {},
   "outputs": [
    {
     "name": "stdout",
     "output_type": "stream",
     "text": [
      "0.01595759391784668\n",
      "fitting done !!!\n",
      "              precision    recall  f1-score   support\n",
      "\n",
      "           0     0.9656    0.9745    0.9701      5968\n",
      "           1     0.9803    0.9797    0.9800      6000\n",
      "           2     0.9946    0.9973    0.9960      5924\n",
      "           3     0.9759    0.9743    0.9751      6027\n",
      "           4     0.9788    0.9696    0.9741      6081\n",
      "\n",
      "    accuracy                         0.9790     30000\n",
      "   macro avg     0.9790    0.9791    0.9790     30000\n",
      "weighted avg     0.9790    0.9790    0.9790     30000\n",
      "\n"
     ]
    }
   ],
   "source": [
    "nb = GaussianNB()\n",
    "start = time.time() # Measuring the processing time\n",
    "nb.fit(feat_train,np.argmax(y_train,axis=1))\n",
    "end = time.time()\n",
    "print(end - start)\n",
    "\n",
    "print('fitting done !!!')\n",
    "Pred_labels = nb.predict(feat_test)\n",
    "print(classification_report(Pred_labels, np.argmax(y_test,axis =1),digits=4))"
   ]
  },
  {
   "cell_type": "code",
   "execution_count": 51,
   "metadata": {},
   "outputs": [
    {
     "data": {
      "image/png": "[encoded data removed]",
      "text/plain": [
       "<Figure size 864x864 with 2 Axes>"
      ]
     },
     "metadata": {
      "needs_background": "light"
     },
     "output_type": "display_data"
    }
   ],
   "source": [
    "plot_heatmap(confusion_matrix(pred, np.argmax(y_test,axis =1)),'GNB')"
   ]
  },
  {
   "cell_type": "code",
   "execution_count": 52,
   "metadata": {},
   "outputs": [
    {
     "name": "stdout",
     "output_type": "stream",
     "text": [
      "1.8067638874053955\n",
      "fitting done !!!\n",
      "              precision    recall  f1-score   support\n",
      "\n",
      "           0     0.9651    0.9666    0.9659      6014\n",
      "           1     0.9728    0.9798    0.9763      5953\n",
      "           2     0.9939    0.9973    0.9956      5920\n",
      "           3     0.9761    0.9664    0.9712      6077\n",
      "           4     0.9706    0.9687    0.9697      6036\n",
      "\n",
      "    accuracy                         0.9757     30000\n",
      "   macro avg     0.9757    0.9758    0.9757     30000\n",
      "weighted avg     0.9757    0.9757    0.9757     30000\n",
      "\n"
     ]
    }
   ],
   "source": [
    "et = ExtraTreesClassifier()\n",
    "start = time.time() # Measuring the processing time\n",
    "et.fit(feat_train,np.argmax(y_train,axis=1))\n",
    "end = time.time()\n",
    "print(end - start)\n",
    "\n",
    "print('fitting done !!!')\n",
    "Pred_labels = et.predict(feat_test)\n",
    "print(classification_report(Pred_labels, np.argmax(y_test,axis =1),digits=4))"
   ]
  },
  {
   "cell_type": "code",
   "execution_count": 53,
   "metadata": {},
   "outputs": [
    {
     "data": {
      "image/png": "[encoded data removed]",
      "text/plain": [
       "<Figure size 864x864 with 2 Axes>"
      ]
     },
     "metadata": {
      "needs_background": "light"
     },
     "output_type": "display_data"
    }
   ],
   "source": [
    "plot_heatmap(confusion_matrix(pred, np.argmax(y_test,axis =1)),'ETC')"
   ]
  },
  {
   "cell_type": "code",
   "execution_count": 54,
   "metadata": {},
   "outputs": [
    {
     "name": "stdout",
     "output_type": "stream",
     "text": [
      "5.863572597503662\n",
      "fitting done !!!\n",
      "              precision    recall  f1-score   support\n",
      "\n",
      "           0     0.9651    0.9666    0.9659      6014\n",
      "           1     0.9728    0.9798    0.9763      5953\n",
      "           2     0.9939    0.9973    0.9956      5920\n",
      "           3     0.9761    0.9664    0.9712      6077\n",
      "           4     0.9706    0.9687    0.9697      6036\n",
      "\n",
      "    accuracy                         0.9757     30000\n",
      "   macro avg     0.9757    0.9758    0.9757     30000\n",
      "weighted avg     0.9757    0.9757    0.9757     30000\n",
      "\n"
     ]
    }
   ],
   "source": [
    "rf = RandomForestClassifier()\n",
    "start = time.time() # Measuring the processing time\n",
    "rf.fit(feat_train,np.argmax(y_train,axis=1))\n",
    "end = time.time()\n",
    "print(end - start) # Total\n",
    "\n",
    "print('fitting done !!!')\n",
    "Pred_labels = et.predict(feat_test)\n",
    "print(classification_report(Pred_labels, np.argmax(y_test,axis =1), digits=4))"
   ]
  },
  {
   "cell_type": "code",
   "execution_count": 55,
   "metadata": {},
   "outputs": [
    {
     "data": {
      "image/png": "[encoded data removed]",
      "text/plain": [
       "<Figure size 864x864 with 2 Axes>"
      ]
     },
     "metadata": {
      "needs_background": "light"
     },
     "output_type": "display_data"
    }
   ],
   "source": [
    "plot_heatmap(confusion_matrix(Pred_labels, np.argmax(y_test,axis =1)),'rf')"
   ]
  },
  {
   "cell_type": "code",
   "execution_count": 56,
   "metadata": {},
   "outputs": [
    {
     "name": "stdout",
     "output_type": "stream",
     "text": [
      "0.8475921154022217\n",
      "fitting done !!!\n",
      "              precision    recall  f1-score   support\n",
      "\n",
      "           0     0.9651    0.9666    0.9659      6014\n",
      "           1     0.9728    0.9798    0.9763      5953\n",
      "           2     0.9939    0.9973    0.9956      5920\n",
      "           3     0.9761    0.9664    0.9712      6077\n",
      "           4     0.9706    0.9687    0.9697      6036\n",
      "\n",
      "    accuracy                         0.9757     30000\n",
      "   macro avg     0.9757    0.9758    0.9757     30000\n",
      "weighted avg     0.9757    0.9757    0.9757     30000\n",
      "\n"
     ]
    }
   ],
   "source": [
    "import lightgbm as lgb\n",
    "lg = lgb.LGBMClassifier(boosting_type='gbdt', class_weight=None, colsample_bytree=1.0,\n",
    "               importance_type='split', learning_rate=0.1, max_depth=-1,\n",
    "               min_child_samples=20, min_child_weight=0.001, min_split_gain=0.0,\n",
    "               n_estimators=100, n_jobs=-1, num_leaves=31, objective=None,\n",
    "               random_state=None, reg_alpha=0.0, reg_lambda=0.0, silent=True,\n",
    "               subsample=1.0, subsample_for_bin=200000, subsample_freq=0)\n",
    "start = time.time() # Measuring the processing time\n",
    "lg.fit(feat_train,np.argmax(y_train,axis=1))\n",
    "end = time.time()\n",
    "print(end - start) # Total\n",
    "\n",
    "print('fitting done !!!')\n",
    "Pred_labels = et.predict(feat_test)\n",
    "print(classification_report(Pred_labels, np.argmax(y_test,axis =1), digits=4))"
   ]
  },
  {
   "cell_type": "code",
   "execution_count": 57,
   "metadata": {},
   "outputs": [
    {
     "name": "stdout",
     "output_type": "stream",
     "text": [
      "Learning rate set to 0.096081\n",
      "0:\tlearn: 1.2580024\ttotal: 162ms\tremaining: 2m 41s\n",
      "1:\tlearn: 1.0387481\ttotal: 192ms\tremaining: 1m 35s\n",
      "2:\tlearn: 0.8805702\ttotal: 224ms\tremaining: 1m 14s\n",
      "3:\tlearn: 0.7590282\ttotal: 255ms\tremaining: 1m 3s\n",
      "4:\tlearn: 0.6620459\ttotal: 279ms\tremaining: 55.5s\n",
      "5:\tlearn: 0.5820861\ttotal: 309ms\tremaining: 51.2s\n",
      "6:\tlearn: 0.5159064\ttotal: 340ms\tremaining: 48.2s\n",
      "7:\tlearn: 0.4595883\ttotal: 368ms\tremaining: 45.6s\n",
      "8:\tlearn: 0.4117102\ttotal: 394ms\tremaining: 43.4s\n",
      "9:\tlearn: 0.3700610\ttotal: 424ms\tremaining: 42s\n",
      "10:\tlearn: 0.3336535\ttotal: 455ms\tremaining: 40.9s\n",
      "11:\tlearn: 0.3020689\ttotal: 477ms\tremaining: 39.3s\n",
      "12:\tlearn: 0.2742976\ttotal: 497ms\tremaining: 37.8s\n",
      "13:\tlearn: 0.2498415\ttotal: 518ms\tremaining: 36.5s\n",
      "14:\tlearn: 0.2281612\ttotal: 539ms\tremaining: 35.4s\n",
      "15:\tlearn: 0.2090848\ttotal: 563ms\tremaining: 34.6s\n",
      "16:\tlearn: 0.1916500\ttotal: 585ms\tremaining: 33.8s\n",
      "17:\tlearn: 0.1765460\ttotal: 612ms\tremaining: 33.4s\n",
      "18:\tlearn: 0.1627006\ttotal: 633ms\tremaining: 32.7s\n",
      "19:\tlearn: 0.1507973\ttotal: 655ms\tremaining: 32.1s\n",
      "20:\tlearn: 0.1397552\ttotal: 676ms\tremaining: 31.5s\n",
      "21:\tlearn: 0.1296246\ttotal: 698ms\tremaining: 31s\n",
      "22:\tlearn: 0.1207408\ttotal: 726ms\tremaining: 30.8s\n",
      "23:\tlearn: 0.1127141\ttotal: 753ms\tremaining: 30.6s\n",
      "24:\tlearn: 0.1056607\ttotal: 783ms\tremaining: 30.5s\n",
      "25:\tlearn: 0.0991979\ttotal: 815ms\tremaining: 30.5s\n",
      "26:\tlearn: 0.0934777\ttotal: 846ms\tremaining: 30.5s\n",
      "27:\tlearn: 0.0880783\ttotal: 875ms\tremaining: 30.4s\n",
      "28:\tlearn: 0.0832099\ttotal: 915ms\tremaining: 30.6s\n",
      "29:\tlearn: 0.0788742\ttotal: 947ms\tremaining: 30.6s\n",
      "30:\tlearn: 0.0749170\ttotal: 973ms\tremaining: 30.4s\n",
      "31:\tlearn: 0.0714189\ttotal: 999ms\tremaining: 30.2s\n",
      "32:\tlearn: 0.0682715\ttotal: 1.02s\tremaining: 29.9s\n",
      "33:\tlearn: 0.0652029\ttotal: 1.04s\tremaining: 29.7s\n",
      "34:\tlearn: 0.0626422\ttotal: 1.06s\tremaining: 29.4s\n",
      "35:\tlearn: 0.0602888\ttotal: 1.09s\tremaining: 29.1s\n",
      "36:\tlearn: 0.0580658\ttotal: 1.11s\tremaining: 28.8s\n",
      "37:\tlearn: 0.0559665\ttotal: 1.14s\tremaining: 28.8s\n",
      "38:\tlearn: 0.0542548\ttotal: 1.16s\tremaining: 28.7s\n",
      "39:\tlearn: 0.0527482\ttotal: 1.19s\tremaining: 28.6s\n",
      "40:\tlearn: 0.0511873\ttotal: 1.22s\tremaining: 28.6s\n",
      "41:\tlearn: 0.0498979\ttotal: 1.25s\tremaining: 28.5s\n",
      "42:\tlearn: 0.0487073\ttotal: 1.28s\tremaining: 28.5s\n",
      "43:\tlearn: 0.0474835\ttotal: 1.31s\tremaining: 28.4s\n",
      "44:\tlearn: 0.0465054\ttotal: 1.34s\tremaining: 28.4s\n",
      "45:\tlearn: 0.0455155\ttotal: 1.36s\tremaining: 28.3s\n",
      "46:\tlearn: 0.0447193\ttotal: 1.39s\tremaining: 28.2s\n",
      "47:\tlearn: 0.0439000\ttotal: 1.41s\tremaining: 28s\n",
      "48:\tlearn: 0.0431275\ttotal: 1.43s\tremaining: 27.8s\n",
      "49:\tlearn: 0.0425069\ttotal: 1.45s\tremaining: 27.6s\n",
      "50:\tlearn: 0.0419069\ttotal: 1.48s\tremaining: 27.5s\n",
      "51:\tlearn: 0.0413378\ttotal: 1.5s\tremaining: 27.3s\n",
      "52:\tlearn: 0.0408325\ttotal: 1.52s\tremaining: 27.1s\n",
      "53:\tlearn: 0.0402402\ttotal: 1.54s\tremaining: 27s\n",
      "54:\tlearn: 0.0398299\ttotal: 1.56s\tremaining: 26.8s\n",
      "55:\tlearn: 0.0394121\ttotal: 1.59s\tremaining: 26.8s\n",
      "56:\tlearn: 0.0390963\ttotal: 1.62s\tremaining: 26.8s\n",
      "57:\tlearn: 0.0387934\ttotal: 1.65s\tremaining: 26.7s\n",
      "58:\tlearn: 0.0385132\ttotal: 1.68s\tremaining: 26.7s\n",
      "59:\tlearn: 0.0381438\ttotal: 1.7s\tremaining: 26.7s\n",
      "60:\tlearn: 0.0378482\ttotal: 1.73s\tremaining: 26.7s\n",
      "61:\tlearn: 0.0374908\ttotal: 1.76s\tremaining: 26.7s\n",
      "62:\tlearn: 0.0372193\ttotal: 1.79s\tremaining: 26.6s\n",
      "63:\tlearn: 0.0369626\ttotal: 1.81s\tremaining: 26.5s\n",
      "64:\tlearn: 0.0367294\ttotal: 1.83s\tremaining: 26.4s\n",
      "65:\tlearn: 0.0365739\ttotal: 1.85s\tremaining: 26.3s\n",
      "66:\tlearn: 0.0363696\ttotal: 1.88s\tremaining: 26.1s\n",
      "67:\tlearn: 0.0362057\ttotal: 1.9s\tremaining: 26s\n",
      "68:\tlearn: 0.0360337\ttotal: 1.92s\tremaining: 25.9s\n",
      "69:\tlearn: 0.0358515\ttotal: 1.94s\tremaining: 25.8s\n",
      "70:\tlearn: 0.0356908\ttotal: 1.97s\tremaining: 25.8s\n",
      "71:\tlearn: 0.0355513\ttotal: 1.99s\tremaining: 25.7s\n",
      "72:\tlearn: 0.0354357\ttotal: 2.01s\tremaining: 25.6s\n",
      "73:\tlearn: 0.0352783\ttotal: 2.03s\tremaining: 25.4s\n",
      "74:\tlearn: 0.0351533\ttotal: 2.05s\tremaining: 25.3s\n",
      "75:\tlearn: 0.0350614\ttotal: 2.08s\tremaining: 25.2s\n",
      "76:\tlearn: 0.0349462\ttotal: 2.1s\tremaining: 25.2s\n",
      "77:\tlearn: 0.0348216\ttotal: 2.12s\tremaining: 25.1s\n",
      "78:\tlearn: 0.0347133\ttotal: 2.14s\tremaining: 25s\n",
      "79:\tlearn: 0.0346156\ttotal: 2.17s\tremaining: 24.9s\n",
      "80:\tlearn: 0.0344955\ttotal: 2.19s\tremaining: 24.8s\n",
      "81:\tlearn: 0.0344079\ttotal: 2.21s\tremaining: 24.8s\n",
      "82:\tlearn: 0.0342970\ttotal: 2.23s\tremaining: 24.7s\n",
      "83:\tlearn: 0.0342159\ttotal: 2.25s\tremaining: 24.6s\n",
      "84:\tlearn: 0.0341486\ttotal: 2.28s\tremaining: 24.5s\n",
      "85:\tlearn: 0.0340744\ttotal: 2.3s\tremaining: 24.4s\n",
      "86:\tlearn: 0.0340198\ttotal: 2.32s\tremaining: 24.3s\n",
      "87:\tlearn: 0.0339599\ttotal: 2.34s\tremaining: 24.3s\n",
      "88:\tlearn: 0.0339131\ttotal: 2.37s\tremaining: 24.2s\n",
      "89:\tlearn: 0.0338367\ttotal: 2.39s\tremaining: 24.2s\n",
      "90:\tlearn: 0.0337608\ttotal: 2.41s\tremaining: 24.1s\n",
      "91:\tlearn: 0.0337067\ttotal: 2.43s\tremaining: 24s\n",
      "92:\tlearn: 0.0336557\ttotal: 2.45s\tremaining: 23.9s\n",
      "93:\tlearn: 0.0335849\ttotal: 2.48s\tremaining: 23.9s\n",
      "94:\tlearn: 0.0335125\ttotal: 2.5s\tremaining: 23.8s\n",
      "95:\tlearn: 0.0334586\ttotal: 2.52s\tremaining: 23.7s\n",
      "96:\tlearn: 0.0333984\ttotal: 2.55s\tremaining: 23.7s\n",
      "97:\tlearn: 0.0333235\ttotal: 2.58s\tremaining: 23.7s\n",
      "98:\tlearn: 0.0332755\ttotal: 2.61s\tremaining: 23.7s\n",
      "99:\tlearn: 0.0332311\ttotal: 2.64s\tremaining: 23.7s\n",
      "100:\tlearn: 0.0331744\ttotal: 2.66s\tremaining: 23.7s\n",
      "101:\tlearn: 0.0331360\ttotal: 2.69s\tremaining: 23.7s\n",
      "102:\tlearn: 0.0330863\ttotal: 2.72s\tremaining: 23.7s\n",
      "103:\tlearn: 0.0330427\ttotal: 2.75s\tremaining: 23.7s\n",
      "104:\tlearn: 0.0329859\ttotal: 2.78s\tremaining: 23.7s\n",
      "105:\tlearn: 0.0329423\ttotal: 2.8s\tremaining: 23.6s\n",
      "106:\tlearn: 0.0329124\ttotal: 2.83s\tremaining: 23.6s\n",
      "107:\tlearn: 0.0328750\ttotal: 2.85s\tremaining: 23.5s\n",
      "108:\tlearn: 0.0328198\ttotal: 2.87s\tremaining: 23.5s\n",
      "109:\tlearn: 0.0327896\ttotal: 2.89s\tremaining: 23.4s\n",
      "110:\tlearn: 0.0327483\ttotal: 2.91s\tremaining: 23.3s\n",
      "111:\tlearn: 0.0326780\ttotal: 2.95s\tremaining: 23.4s\n",
      "112:\tlearn: 0.0326371\ttotal: 2.97s\tremaining: 23.3s\n",
      "113:\tlearn: 0.0325949\ttotal: 3s\tremaining: 23.3s\n",
      "114:\tlearn: 0.0325535\ttotal: 3.02s\tremaining: 23.2s\n",
      "115:\tlearn: 0.0325214\ttotal: 3.04s\tremaining: 23.2s\n",
      "116:\tlearn: 0.0324828\ttotal: 3.06s\tremaining: 23.1s\n",
      "117:\tlearn: 0.0324360\ttotal: 3.08s\tremaining: 23s\n",
      "118:\tlearn: 0.0323968\ttotal: 3.1s\tremaining: 23s\n",
      "119:\tlearn: 0.0323665\ttotal: 3.13s\tremaining: 22.9s\n",
      "120:\tlearn: 0.0323479\ttotal: 3.15s\tremaining: 22.9s\n",
      "121:\tlearn: 0.0323081\ttotal: 3.17s\tremaining: 22.8s\n",
      "122:\tlearn: 0.0322636\ttotal: 3.19s\tremaining: 22.8s\n",
      "123:\tlearn: 0.0322307\ttotal: 3.21s\tremaining: 22.7s\n",
      "124:\tlearn: 0.0322116\ttotal: 3.23s\tremaining: 22.6s\n",
      "125:\tlearn: 0.0321804\ttotal: 3.25s\tremaining: 22.6s\n",
      "126:\tlearn: 0.0321518\ttotal: 3.28s\tremaining: 22.5s\n",
      "127:\tlearn: 0.0321204\ttotal: 3.3s\tremaining: 22.5s\n",
      "128:\tlearn: 0.0321021\ttotal: 3.33s\tremaining: 22.5s\n",
      "129:\tlearn: 0.0320633\ttotal: 3.35s\tremaining: 22.4s\n",
      "130:\tlearn: 0.0320201\ttotal: 3.38s\tremaining: 22.4s\n",
      "131:\tlearn: 0.0319776\ttotal: 3.41s\tremaining: 22.4s\n",
      "132:\tlearn: 0.0319611\ttotal: 3.44s\tremaining: 22.4s\n",
      "133:\tlearn: 0.0319210\ttotal: 3.47s\tremaining: 22.4s\n",
      "134:\tlearn: 0.0318892\ttotal: 3.5s\tremaining: 22.4s\n",
      "135:\tlearn: 0.0318668\ttotal: 3.54s\tremaining: 22.5s\n",
      "136:\tlearn: 0.0318345\ttotal: 3.56s\tremaining: 22.4s\n",
      "137:\tlearn: 0.0317991\ttotal: 3.59s\tremaining: 22.4s\n",
      "138:\tlearn: 0.0317688\ttotal: 3.61s\tremaining: 22.4s\n",
      "139:\tlearn: 0.0317448\ttotal: 3.63s\tremaining: 22.3s\n",
      "140:\tlearn: 0.0317140\ttotal: 3.65s\tremaining: 22.3s\n",
      "141:\tlearn: 0.0316930\ttotal: 3.67s\tremaining: 22.2s\n",
      "142:\tlearn: 0.0316571\ttotal: 3.69s\tremaining: 22.1s\n",
      "143:\tlearn: 0.0316220\ttotal: 3.72s\tremaining: 22.1s\n",
      "144:\tlearn: 0.0315881\ttotal: 3.74s\tremaining: 22.1s\n",
      "145:\tlearn: 0.0315676\ttotal: 3.76s\tremaining: 22s\n",
      "146:\tlearn: 0.0315409\ttotal: 3.79s\tremaining: 22s\n",
      "147:\tlearn: 0.0315105\ttotal: 3.81s\tremaining: 21.9s\n",
      "148:\tlearn: 0.0314797\ttotal: 3.83s\tremaining: 21.9s\n",
      "149:\tlearn: 0.0314491\ttotal: 3.85s\tremaining: 21.8s\n",
      "150:\tlearn: 0.0314232\ttotal: 3.87s\tremaining: 21.8s\n",
      "151:\tlearn: 0.0314107\ttotal: 3.9s\tremaining: 21.7s\n",
      "152:\tlearn: 0.0313894\ttotal: 3.92s\tremaining: 21.7s\n",
      "153:\tlearn: 0.0313551\ttotal: 3.94s\tremaining: 21.7s\n",
      "154:\tlearn: 0.0313320\ttotal: 3.97s\tremaining: 21.6s\n",
      "155:\tlearn: 0.0313030\ttotal: 3.99s\tremaining: 21.6s\n",
      "156:\tlearn: 0.0312773\ttotal: 4.01s\tremaining: 21.5s\n",
      "157:\tlearn: 0.0312466\ttotal: 4.03s\tremaining: 21.5s\n",
      "158:\tlearn: 0.0312116\ttotal: 4.05s\tremaining: 21.4s\n",
      "159:\tlearn: 0.0311872\ttotal: 4.08s\tremaining: 21.4s\n",
      "160:\tlearn: 0.0311375\ttotal: 4.1s\tremaining: 21.4s\n"
     ]
    },
    {
     "name": "stdout",
     "output_type": "stream",
     "text": [
      "161:\tlearn: 0.0311205\ttotal: 4.12s\tremaining: 21.3s\n",
      "162:\tlearn: 0.0310946\ttotal: 4.14s\tremaining: 21.3s\n",
      "163:\tlearn: 0.0310694\ttotal: 4.17s\tremaining: 21.2s\n",
      "164:\tlearn: 0.0310537\ttotal: 4.19s\tremaining: 21.2s\n",
      "165:\tlearn: 0.0310334\ttotal: 4.21s\tremaining: 21.2s\n",
      "166:\tlearn: 0.0310213\ttotal: 4.23s\tremaining: 21.1s\n",
      "167:\tlearn: 0.0309799\ttotal: 4.26s\tremaining: 21.1s\n",
      "168:\tlearn: 0.0309368\ttotal: 4.28s\tremaining: 21s\n",
      "169:\tlearn: 0.0309090\ttotal: 4.31s\tremaining: 21s\n",
      "170:\tlearn: 0.0308864\ttotal: 4.33s\tremaining: 21s\n",
      "171:\tlearn: 0.0308565\ttotal: 4.35s\tremaining: 21s\n",
      "172:\tlearn: 0.0308234\ttotal: 4.37s\tremaining: 20.9s\n",
      "173:\tlearn: 0.0308011\ttotal: 4.4s\tremaining: 20.9s\n",
      "174:\tlearn: 0.0307818\ttotal: 4.42s\tremaining: 20.8s\n",
      "175:\tlearn: 0.0307429\ttotal: 4.44s\tremaining: 20.8s\n",
      "176:\tlearn: 0.0307181\ttotal: 4.47s\tremaining: 20.8s\n",
      "177:\tlearn: 0.0306878\ttotal: 4.49s\tremaining: 20.8s\n",
      "178:\tlearn: 0.0306673\ttotal: 4.52s\tremaining: 20.7s\n",
      "179:\tlearn: 0.0306459\ttotal: 4.54s\tremaining: 20.7s\n",
      "180:\tlearn: 0.0306142\ttotal: 4.56s\tremaining: 20.6s\n",
      "181:\tlearn: 0.0305937\ttotal: 4.58s\tremaining: 20.6s\n",
      "182:\tlearn: 0.0305709\ttotal: 4.61s\tremaining: 20.6s\n",
      "183:\tlearn: 0.0305406\ttotal: 4.63s\tremaining: 20.5s\n",
      "184:\tlearn: 0.0305107\ttotal: 4.66s\tremaining: 20.5s\n",
      "185:\tlearn: 0.0304979\ttotal: 4.68s\tremaining: 20.5s\n",
      "186:\tlearn: 0.0304689\ttotal: 4.7s\tremaining: 20.5s\n",
      "187:\tlearn: 0.0304342\ttotal: 4.73s\tremaining: 20.4s\n",
      "188:\tlearn: 0.0304154\ttotal: 4.75s\tremaining: 20.4s\n",
      "189:\tlearn: 0.0303742\ttotal: 4.77s\tremaining: 20.4s\n",
      "190:\tlearn: 0.0303606\ttotal: 4.8s\tremaining: 20.3s\n",
      "191:\tlearn: 0.0303318\ttotal: 4.82s\tremaining: 20.3s\n",
      "192:\tlearn: 0.0303041\ttotal: 4.84s\tremaining: 20.2s\n",
      "193:\tlearn: 0.0302753\ttotal: 4.86s\tremaining: 20.2s\n",
      "194:\tlearn: 0.0302528\ttotal: 4.89s\tremaining: 20.2s\n",
      "195:\tlearn: 0.0302232\ttotal: 4.91s\tremaining: 20.1s\n",
      "196:\tlearn: 0.0302045\ttotal: 4.93s\tremaining: 20.1s\n",
      "197:\tlearn: 0.0301839\ttotal: 4.95s\tremaining: 20.1s\n",
      "198:\tlearn: 0.0301657\ttotal: 4.97s\tremaining: 20s\n",
      "199:\tlearn: 0.0301448\ttotal: 5s\tremaining: 20s\n",
      "200:\tlearn: 0.0301282\ttotal: 5.02s\tremaining: 19.9s\n",
      "201:\tlearn: 0.0301045\ttotal: 5.04s\tremaining: 19.9s\n",
      "202:\tlearn: 0.0300722\ttotal: 5.06s\tremaining: 19.9s\n",
      "203:\tlearn: 0.0300264\ttotal: 5.09s\tremaining: 19.9s\n",
      "204:\tlearn: 0.0300212\ttotal: 5.11s\tremaining: 19.8s\n",
      "205:\tlearn: 0.0299908\ttotal: 5.14s\tremaining: 19.8s\n",
      "206:\tlearn: 0.0299745\ttotal: 5.16s\tremaining: 19.8s\n",
      "207:\tlearn: 0.0299587\ttotal: 5.18s\tremaining: 19.7s\n",
      "208:\tlearn: 0.0299390\ttotal: 5.21s\tremaining: 19.7s\n",
      "209:\tlearn: 0.0299298\ttotal: 5.23s\tremaining: 19.7s\n",
      "210:\tlearn: 0.0299096\ttotal: 5.25s\tremaining: 19.6s\n",
      "211:\tlearn: 0.0298886\ttotal: 5.28s\tremaining: 19.6s\n",
      "212:\tlearn: 0.0298654\ttotal: 5.3s\tremaining: 19.6s\n",
      "213:\tlearn: 0.0298514\ttotal: 5.33s\tremaining: 19.6s\n",
      "214:\tlearn: 0.0298356\ttotal: 5.35s\tremaining: 19.5s\n",
      "215:\tlearn: 0.0298224\ttotal: 5.37s\tremaining: 19.5s\n",
      "216:\tlearn: 0.0298059\ttotal: 5.4s\tremaining: 19.5s\n",
      "217:\tlearn: 0.0297736\ttotal: 5.42s\tremaining: 19.4s\n",
      "218:\tlearn: 0.0297501\ttotal: 5.44s\tremaining: 19.4s\n",
      "219:\tlearn: 0.0297273\ttotal: 5.47s\tremaining: 19.4s\n",
      "220:\tlearn: 0.0297089\ttotal: 5.49s\tremaining: 19.4s\n",
      "221:\tlearn: 0.0296995\ttotal: 5.51s\tremaining: 19.3s\n",
      "222:\tlearn: 0.0296729\ttotal: 5.54s\tremaining: 19.3s\n",
      "223:\tlearn: 0.0296445\ttotal: 5.56s\tremaining: 19.3s\n",
      "224:\tlearn: 0.0296270\ttotal: 5.58s\tremaining: 19.2s\n",
      "225:\tlearn: 0.0296003\ttotal: 5.61s\tremaining: 19.2s\n",
      "226:\tlearn: 0.0295788\ttotal: 5.63s\tremaining: 19.2s\n",
      "227:\tlearn: 0.0295580\ttotal: 5.65s\tremaining: 19.1s\n",
      "228:\tlearn: 0.0295357\ttotal: 5.67s\tremaining: 19.1s\n",
      "229:\tlearn: 0.0295230\ttotal: 5.7s\tremaining: 19.1s\n",
      "230:\tlearn: 0.0295008\ttotal: 5.72s\tremaining: 19s\n",
      "231:\tlearn: 0.0294821\ttotal: 5.74s\tremaining: 19s\n",
      "232:\tlearn: 0.0294701\ttotal: 5.76s\tremaining: 19s\n",
      "233:\tlearn: 0.0294459\ttotal: 5.78s\tremaining: 18.9s\n",
      "234:\tlearn: 0.0294302\ttotal: 5.8s\tremaining: 18.9s\n",
      "235:\tlearn: 0.0294091\ttotal: 5.83s\tremaining: 18.9s\n",
      "236:\tlearn: 0.0293802\ttotal: 5.85s\tremaining: 18.8s\n",
      "237:\tlearn: 0.0293553\ttotal: 5.87s\tremaining: 18.8s\n",
      "238:\tlearn: 0.0293463\ttotal: 5.89s\tremaining: 18.8s\n",
      "239:\tlearn: 0.0293294\ttotal: 5.91s\tremaining: 18.7s\n",
      "240:\tlearn: 0.0293167\ttotal: 5.94s\tremaining: 18.7s\n",
      "241:\tlearn: 0.0293038\ttotal: 5.96s\tremaining: 18.7s\n",
      "242:\tlearn: 0.0292808\ttotal: 5.98s\tremaining: 18.6s\n",
      "243:\tlearn: 0.0292554\ttotal: 6s\tremaining: 18.6s\n",
      "244:\tlearn: 0.0292354\ttotal: 6.03s\tremaining: 18.6s\n",
      "245:\tlearn: 0.0292157\ttotal: 6.05s\tremaining: 18.5s\n",
      "246:\tlearn: 0.0292019\ttotal: 6.07s\tremaining: 18.5s\n",
      "247:\tlearn: 0.0291930\ttotal: 6.09s\tremaining: 18.5s\n",
      "248:\tlearn: 0.0291667\ttotal: 6.11s\tremaining: 18.4s\n",
      "249:\tlearn: 0.0291475\ttotal: 6.14s\tremaining: 18.4s\n",
      "250:\tlearn: 0.0291343\ttotal: 6.16s\tremaining: 18.4s\n",
      "251:\tlearn: 0.0291168\ttotal: 6.18s\tremaining: 18.3s\n",
      "252:\tlearn: 0.0290912\ttotal: 6.21s\tremaining: 18.3s\n",
      "253:\tlearn: 0.0290724\ttotal: 6.23s\tremaining: 18.3s\n",
      "254:\tlearn: 0.0290593\ttotal: 6.25s\tremaining: 18.3s\n",
      "255:\tlearn: 0.0290377\ttotal: 6.27s\tremaining: 18.2s\n",
      "256:\tlearn: 0.0290228\ttotal: 6.29s\tremaining: 18.2s\n",
      "257:\tlearn: 0.0290085\ttotal: 6.32s\tremaining: 18.2s\n",
      "258:\tlearn: 0.0289866\ttotal: 6.34s\tremaining: 18.1s\n",
      "259:\tlearn: 0.0289741\ttotal: 6.36s\tremaining: 18.1s\n",
      "260:\tlearn: 0.0289529\ttotal: 6.38s\tremaining: 18.1s\n",
      "261:\tlearn: 0.0289353\ttotal: 6.41s\tremaining: 18.1s\n",
      "262:\tlearn: 0.0289269\ttotal: 6.43s\tremaining: 18s\n",
      "263:\tlearn: 0.0289103\ttotal: 6.45s\tremaining: 18s\n",
      "264:\tlearn: 0.0288985\ttotal: 6.47s\tremaining: 18s\n",
      "265:\tlearn: 0.0288780\ttotal: 6.5s\tremaining: 17.9s\n",
      "266:\tlearn: 0.0288519\ttotal: 6.52s\tremaining: 17.9s\n",
      "267:\tlearn: 0.0288421\ttotal: 6.54s\tremaining: 17.9s\n",
      "268:\tlearn: 0.0288274\ttotal: 6.56s\tremaining: 17.8s\n",
      "269:\tlearn: 0.0288215\ttotal: 6.58s\tremaining: 17.8s\n",
      "270:\tlearn: 0.0288041\ttotal: 6.61s\tremaining: 17.8s\n",
      "271:\tlearn: 0.0287774\ttotal: 6.63s\tremaining: 17.7s\n",
      "272:\tlearn: 0.0287606\ttotal: 6.65s\tremaining: 17.7s\n",
      "273:\tlearn: 0.0287312\ttotal: 6.67s\tremaining: 17.7s\n",
      "274:\tlearn: 0.0287000\ttotal: 6.69s\tremaining: 17.6s\n",
      "275:\tlearn: 0.0286937\ttotal: 6.71s\tremaining: 17.6s\n",
      "276:\tlearn: 0.0286808\ttotal: 6.74s\tremaining: 17.6s\n",
      "277:\tlearn: 0.0286658\ttotal: 6.76s\tremaining: 17.6s\n",
      "278:\tlearn: 0.0286427\ttotal: 6.78s\tremaining: 17.5s\n",
      "279:\tlearn: 0.0286229\ttotal: 6.81s\tremaining: 17.5s\n",
      "280:\tlearn: 0.0286125\ttotal: 6.83s\tremaining: 17.5s\n",
      "281:\tlearn: 0.0286023\ttotal: 6.85s\tremaining: 17.4s\n",
      "282:\tlearn: 0.0285822\ttotal: 6.87s\tremaining: 17.4s\n",
      "283:\tlearn: 0.0285663\ttotal: 6.89s\tremaining: 17.4s\n",
      "284:\tlearn: 0.0285561\ttotal: 6.91s\tremaining: 17.3s\n",
      "285:\tlearn: 0.0285354\ttotal: 6.94s\tremaining: 17.3s\n",
      "286:\tlearn: 0.0285244\ttotal: 6.96s\tremaining: 17.3s\n",
      "287:\tlearn: 0.0285026\ttotal: 6.98s\tremaining: 17.3s\n",
      "288:\tlearn: 0.0284945\ttotal: 7s\tremaining: 17.2s\n",
      "289:\tlearn: 0.0284802\ttotal: 7.03s\tremaining: 17.2s\n",
      "290:\tlearn: 0.0284658\ttotal: 7.05s\tremaining: 17.2s\n",
      "291:\tlearn: 0.0284520\ttotal: 7.07s\tremaining: 17.1s\n",
      "292:\tlearn: 0.0284373\ttotal: 7.09s\tremaining: 17.1s\n",
      "293:\tlearn: 0.0284248\ttotal: 7.11s\tremaining: 17.1s\n",
      "294:\tlearn: 0.0284053\ttotal: 7.13s\tremaining: 17s\n",
      "295:\tlearn: 0.0283955\ttotal: 7.16s\tremaining: 17s\n",
      "296:\tlearn: 0.0283713\ttotal: 7.18s\tremaining: 17s\n",
      "297:\tlearn: 0.0283347\ttotal: 7.2s\tremaining: 17s\n",
      "298:\tlearn: 0.0283180\ttotal: 7.22s\tremaining: 16.9s\n",
      "299:\tlearn: 0.0283051\ttotal: 7.25s\tremaining: 16.9s\n",
      "300:\tlearn: 0.0282895\ttotal: 7.27s\tremaining: 16.9s\n",
      "301:\tlearn: 0.0282687\ttotal: 7.29s\tremaining: 16.9s\n",
      "302:\tlearn: 0.0282571\ttotal: 7.31s\tremaining: 16.8s\n",
      "303:\tlearn: 0.0282466\ttotal: 7.34s\tremaining: 16.8s\n",
      "304:\tlearn: 0.0282317\ttotal: 7.36s\tremaining: 16.8s\n",
      "305:\tlearn: 0.0282147\ttotal: 7.38s\tremaining: 16.8s\n",
      "306:\tlearn: 0.0282026\ttotal: 7.41s\tremaining: 16.7s\n",
      "307:\tlearn: 0.0281940\ttotal: 7.43s\tremaining: 16.7s\n",
      "308:\tlearn: 0.0281792\ttotal: 7.45s\tremaining: 16.7s\n",
      "309:\tlearn: 0.0281551\ttotal: 7.47s\tremaining: 16.6s\n",
      "310:\tlearn: 0.0281434\ttotal: 7.49s\tremaining: 16.6s\n",
      "311:\tlearn: 0.0281315\ttotal: 7.52s\tremaining: 16.6s\n",
      "312:\tlearn: 0.0281111\ttotal: 7.54s\tremaining: 16.5s\n",
      "313:\tlearn: 0.0280961\ttotal: 7.56s\tremaining: 16.5s\n",
      "314:\tlearn: 0.0280753\ttotal: 7.58s\tremaining: 16.5s\n",
      "315:\tlearn: 0.0280627\ttotal: 7.61s\tremaining: 16.5s\n",
      "316:\tlearn: 0.0280556\ttotal: 7.63s\tremaining: 16.4s\n",
      "317:\tlearn: 0.0280375\ttotal: 7.65s\tremaining: 16.4s\n",
      "318:\tlearn: 0.0280218\ttotal: 7.67s\tremaining: 16.4s\n",
      "319:\tlearn: 0.0280067\ttotal: 7.7s\tremaining: 16.4s\n",
      "320:\tlearn: 0.0279949\ttotal: 7.72s\tremaining: 16.3s\n"
     ]
    },
    {
     "name": "stdout",
     "output_type": "stream",
     "text": [
      "321:\tlearn: 0.0279852\ttotal: 7.74s\tremaining: 16.3s\n",
      "322:\tlearn: 0.0279668\ttotal: 7.76s\tremaining: 16.3s\n",
      "323:\tlearn: 0.0279577\ttotal: 7.79s\tremaining: 16.2s\n",
      "324:\tlearn: 0.0279418\ttotal: 7.81s\tremaining: 16.2s\n",
      "325:\tlearn: 0.0279224\ttotal: 7.83s\tremaining: 16.2s\n",
      "326:\tlearn: 0.0278880\ttotal: 7.85s\tremaining: 16.2s\n",
      "327:\tlearn: 0.0278730\ttotal: 7.87s\tremaining: 16.1s\n",
      "328:\tlearn: 0.0278532\ttotal: 7.89s\tremaining: 16.1s\n",
      "329:\tlearn: 0.0278447\ttotal: 7.92s\tremaining: 16.1s\n",
      "330:\tlearn: 0.0278345\ttotal: 7.94s\tremaining: 16.1s\n",
      "331:\tlearn: 0.0278157\ttotal: 7.96s\tremaining: 16s\n",
      "332:\tlearn: 0.0278006\ttotal: 7.99s\tremaining: 16s\n",
      "333:\tlearn: 0.0277882\ttotal: 8.01s\tremaining: 16s\n",
      "334:\tlearn: 0.0277676\ttotal: 8.03s\tremaining: 15.9s\n",
      "335:\tlearn: 0.0277515\ttotal: 8.05s\tremaining: 15.9s\n",
      "336:\tlearn: 0.0277339\ttotal: 8.08s\tremaining: 15.9s\n",
      "337:\tlearn: 0.0277221\ttotal: 8.1s\tremaining: 15.9s\n",
      "338:\tlearn: 0.0277112\ttotal: 8.12s\tremaining: 15.8s\n",
      "339:\tlearn: 0.0276982\ttotal: 8.14s\tremaining: 15.8s\n",
      "340:\tlearn: 0.0276779\ttotal: 8.17s\tremaining: 15.8s\n",
      "341:\tlearn: 0.0276672\ttotal: 8.19s\tremaining: 15.8s\n",
      "342:\tlearn: 0.0276541\ttotal: 8.21s\tremaining: 15.7s\n",
      "343:\tlearn: 0.0276435\ttotal: 8.23s\tremaining: 15.7s\n",
      "344:\tlearn: 0.0276286\ttotal: 8.25s\tremaining: 15.7s\n",
      "345:\tlearn: 0.0276208\ttotal: 8.27s\tremaining: 15.6s\n",
      "346:\tlearn: 0.0275994\ttotal: 8.3s\tremaining: 15.6s\n",
      "347:\tlearn: 0.0275913\ttotal: 8.32s\tremaining: 15.6s\n",
      "348:\tlearn: 0.0275733\ttotal: 8.34s\tremaining: 15.6s\n",
      "349:\tlearn: 0.0275650\ttotal: 8.37s\tremaining: 15.5s\n",
      "350:\tlearn: 0.0275549\ttotal: 8.39s\tremaining: 15.5s\n",
      "351:\tlearn: 0.0275405\ttotal: 8.41s\tremaining: 15.5s\n",
      "352:\tlearn: 0.0275283\ttotal: 8.43s\tremaining: 15.4s\n",
      "353:\tlearn: 0.0275179\ttotal: 8.45s\tremaining: 15.4s\n",
      "354:\tlearn: 0.0275052\ttotal: 8.48s\tremaining: 15.4s\n",
      "355:\tlearn: 0.0274869\ttotal: 8.5s\tremaining: 15.4s\n",
      "356:\tlearn: 0.0274757\ttotal: 8.52s\tremaining: 15.3s\n",
      "357:\tlearn: 0.0274627\ttotal: 8.54s\tremaining: 15.3s\n",
      "358:\tlearn: 0.0274439\ttotal: 8.56s\tremaining: 15.3s\n",
      "359:\tlearn: 0.0274239\ttotal: 8.59s\tremaining: 15.3s\n",
      "360:\tlearn: 0.0274072\ttotal: 8.61s\tremaining: 15.2s\n",
      "361:\tlearn: 0.0273970\ttotal: 8.63s\tremaining: 15.2s\n",
      "362:\tlearn: 0.0273805\ttotal: 8.65s\tremaining: 15.2s\n",
      "363:\tlearn: 0.0273691\ttotal: 8.68s\tremaining: 15.2s\n",
      "364:\tlearn: 0.0273616\ttotal: 8.7s\tremaining: 15.1s\n",
      "365:\tlearn: 0.0273520\ttotal: 8.72s\tremaining: 15.1s\n",
      "366:\tlearn: 0.0273410\ttotal: 8.74s\tremaining: 15.1s\n",
      "367:\tlearn: 0.0273204\ttotal: 8.77s\tremaining: 15.1s\n",
      "368:\tlearn: 0.0273047\ttotal: 8.79s\tremaining: 15s\n",
      "369:\tlearn: 0.0272922\ttotal: 8.81s\tremaining: 15s\n",
      "370:\tlearn: 0.0272772\ttotal: 8.83s\tremaining: 15s\n",
      "371:\tlearn: 0.0272655\ttotal: 8.86s\tremaining: 14.9s\n",
      "372:\tlearn: 0.0272462\ttotal: 8.88s\tremaining: 14.9s\n",
      "373:\tlearn: 0.0272308\ttotal: 8.9s\tremaining: 14.9s\n",
      "374:\tlearn: 0.0272146\ttotal: 8.92s\tremaining: 14.9s\n",
      "375:\tlearn: 0.0272043\ttotal: 8.94s\tremaining: 14.8s\n",
      "376:\tlearn: 0.0271905\ttotal: 8.96s\tremaining: 14.8s\n",
      "377:\tlearn: 0.0271800\ttotal: 8.99s\tremaining: 14.8s\n",
      "378:\tlearn: 0.0271653\ttotal: 9.01s\tremaining: 14.8s\n",
      "379:\tlearn: 0.0271511\ttotal: 9.03s\tremaining: 14.7s\n",
      "380:\tlearn: 0.0271437\ttotal: 9.06s\tremaining: 14.7s\n",
      "381:\tlearn: 0.0271324\ttotal: 9.08s\tremaining: 14.7s\n",
      "382:\tlearn: 0.0271133\ttotal: 9.1s\tremaining: 14.7s\n",
      "383:\tlearn: 0.0271037\ttotal: 9.12s\tremaining: 14.6s\n",
      "384:\tlearn: 0.0270841\ttotal: 9.14s\tremaining: 14.6s\n",
      "385:\tlearn: 0.0270668\ttotal: 9.17s\tremaining: 14.6s\n",
      "386:\tlearn: 0.0270532\ttotal: 9.19s\tremaining: 14.6s\n",
      "387:\tlearn: 0.0270405\ttotal: 9.21s\tremaining: 14.5s\n",
      "388:\tlearn: 0.0270314\ttotal: 9.24s\tremaining: 14.5s\n",
      "389:\tlearn: 0.0270187\ttotal: 9.26s\tremaining: 14.5s\n",
      "390:\tlearn: 0.0270017\ttotal: 9.28s\tremaining: 14.5s\n",
      "391:\tlearn: 0.0269885\ttotal: 9.3s\tremaining: 14.4s\n",
      "392:\tlearn: 0.0269791\ttotal: 9.32s\tremaining: 14.4s\n",
      "393:\tlearn: 0.0269572\ttotal: 9.35s\tremaining: 14.4s\n",
      "394:\tlearn: 0.0269438\ttotal: 9.37s\tremaining: 14.3s\n",
      "395:\tlearn: 0.0269251\ttotal: 9.39s\tremaining: 14.3s\n",
      "396:\tlearn: 0.0269145\ttotal: 9.42s\tremaining: 14.3s\n",
      "397:\tlearn: 0.0269058\ttotal: 9.44s\tremaining: 14.3s\n",
      "398:\tlearn: 0.0268890\ttotal: 9.46s\tremaining: 14.2s\n",
      "399:\tlearn: 0.0268818\ttotal: 9.48s\tremaining: 14.2s\n",
      "400:\tlearn: 0.0268739\ttotal: 9.5s\tremaining: 14.2s\n",
      "401:\tlearn: 0.0268585\ttotal: 9.53s\tremaining: 14.2s\n",
      "402:\tlearn: 0.0268486\ttotal: 9.55s\tremaining: 14.1s\n",
      "403:\tlearn: 0.0268367\ttotal: 9.57s\tremaining: 14.1s\n",
      "404:\tlearn: 0.0268197\ttotal: 9.59s\tremaining: 14.1s\n",
      "405:\tlearn: 0.0268100\ttotal: 9.62s\tremaining: 14.1s\n",
      "406:\tlearn: 0.0267988\ttotal: 9.64s\tremaining: 14s\n",
      "407:\tlearn: 0.0267889\ttotal: 9.66s\tremaining: 14s\n",
      "408:\tlearn: 0.0267797\ttotal: 9.68s\tremaining: 14s\n",
      "409:\tlearn: 0.0267701\ttotal: 9.7s\tremaining: 14s\n",
      "410:\tlearn: 0.0267530\ttotal: 9.73s\tremaining: 13.9s\n",
      "411:\tlearn: 0.0267362\ttotal: 9.75s\tremaining: 13.9s\n",
      "412:\tlearn: 0.0267223\ttotal: 9.77s\tremaining: 13.9s\n",
      "413:\tlearn: 0.0267088\ttotal: 9.8s\tremaining: 13.9s\n",
      "414:\tlearn: 0.0266891\ttotal: 9.82s\tremaining: 13.8s\n",
      "415:\tlearn: 0.0266710\ttotal: 9.84s\tremaining: 13.8s\n",
      "416:\tlearn: 0.0266514\ttotal: 9.86s\tremaining: 13.8s\n",
      "417:\tlearn: 0.0266377\ttotal: 9.88s\tremaining: 13.8s\n",
      "418:\tlearn: 0.0266281\ttotal: 9.9s\tremaining: 13.7s\n",
      "419:\tlearn: 0.0266156\ttotal: 9.93s\tremaining: 13.7s\n",
      "420:\tlearn: 0.0266016\ttotal: 9.95s\tremaining: 13.7s\n",
      "421:\tlearn: 0.0265882\ttotal: 9.97s\tremaining: 13.7s\n",
      "422:\tlearn: 0.0265757\ttotal: 9.99s\tremaining: 13.6s\n",
      "423:\tlearn: 0.0265696\ttotal: 10s\tremaining: 13.6s\n",
      "424:\tlearn: 0.0265581\ttotal: 10s\tremaining: 13.6s\n",
      "425:\tlearn: 0.0265389\ttotal: 10.1s\tremaining: 13.6s\n",
      "426:\tlearn: 0.0265293\ttotal: 10.1s\tremaining: 13.5s\n",
      "427:\tlearn: 0.0265034\ttotal: 10.1s\tremaining: 13.5s\n",
      "428:\tlearn: 0.0264813\ttotal: 10.1s\tremaining: 13.5s\n",
      "429:\tlearn: 0.0264670\ttotal: 10.1s\tremaining: 13.4s\n",
      "430:\tlearn: 0.0264549\ttotal: 10.2s\tremaining: 13.4s\n",
      "431:\tlearn: 0.0264384\ttotal: 10.2s\tremaining: 13.4s\n",
      "432:\tlearn: 0.0264205\ttotal: 10.2s\tremaining: 13.4s\n",
      "433:\tlearn: 0.0264036\ttotal: 10.2s\tremaining: 13.4s\n",
      "434:\tlearn: 0.0263877\ttotal: 10.3s\tremaining: 13.3s\n",
      "435:\tlearn: 0.0263721\ttotal: 10.3s\tremaining: 13.3s\n",
      "436:\tlearn: 0.0263604\ttotal: 10.3s\tremaining: 13.3s\n",
      "437:\tlearn: 0.0263493\ttotal: 10.3s\tremaining: 13.2s\n",
      "438:\tlearn: 0.0263405\ttotal: 10.3s\tremaining: 13.2s\n",
      "439:\tlearn: 0.0263316\ttotal: 10.4s\tremaining: 13.2s\n",
      "440:\tlearn: 0.0263223\ttotal: 10.4s\tremaining: 13.2s\n",
      "441:\tlearn: 0.0262998\ttotal: 10.4s\tremaining: 13.2s\n",
      "442:\tlearn: 0.0262887\ttotal: 10.4s\tremaining: 13.1s\n",
      "443:\tlearn: 0.0262849\ttotal: 10.5s\tremaining: 13.1s\n",
      "444:\tlearn: 0.0262661\ttotal: 10.5s\tremaining: 13.1s\n",
      "445:\tlearn: 0.0262511\ttotal: 10.5s\tremaining: 13s\n",
      "446:\tlearn: 0.0262362\ttotal: 10.5s\tremaining: 13s\n",
      "447:\tlearn: 0.0262256\ttotal: 10.5s\tremaining: 13s\n",
      "448:\tlearn: 0.0262151\ttotal: 10.6s\tremaining: 13s\n",
      "449:\tlearn: 0.0261931\ttotal: 10.6s\tremaining: 12.9s\n",
      "450:\tlearn: 0.0261848\ttotal: 10.6s\tremaining: 12.9s\n",
      "451:\tlearn: 0.0261679\ttotal: 10.6s\tremaining: 12.9s\n",
      "452:\tlearn: 0.0261503\ttotal: 10.7s\tremaining: 12.9s\n",
      "453:\tlearn: 0.0261343\ttotal: 10.7s\tremaining: 12.8s\n",
      "454:\tlearn: 0.0261282\ttotal: 10.7s\tremaining: 12.8s\n",
      "455:\tlearn: 0.0261182\ttotal: 10.7s\tremaining: 12.8s\n",
      "456:\tlearn: 0.0261072\ttotal: 10.8s\tremaining: 12.8s\n",
      "457:\tlearn: 0.0260934\ttotal: 10.8s\tremaining: 12.7s\n",
      "458:\tlearn: 0.0260875\ttotal: 10.8s\tremaining: 12.7s\n",
      "459:\tlearn: 0.0260834\ttotal: 10.8s\tremaining: 12.7s\n",
      "460:\tlearn: 0.0260751\ttotal: 10.8s\tremaining: 12.7s\n",
      "461:\tlearn: 0.0260657\ttotal: 10.9s\tremaining: 12.6s\n",
      "462:\tlearn: 0.0260563\ttotal: 10.9s\tremaining: 12.6s\n",
      "463:\tlearn: 0.0260489\ttotal: 10.9s\tremaining: 12.6s\n",
      "464:\tlearn: 0.0260374\ttotal: 10.9s\tremaining: 12.6s\n",
      "465:\tlearn: 0.0260242\ttotal: 11s\tremaining: 12.6s\n",
      "466:\tlearn: 0.0260022\ttotal: 11s\tremaining: 12.5s\n",
      "467:\tlearn: 0.0259961\ttotal: 11s\tremaining: 12.5s\n",
      "468:\tlearn: 0.0259844\ttotal: 11s\tremaining: 12.5s\n",
      "469:\tlearn: 0.0259710\ttotal: 11s\tremaining: 12.5s\n",
      "470:\tlearn: 0.0259547\ttotal: 11.1s\tremaining: 12.4s\n",
      "471:\tlearn: 0.0259416\ttotal: 11.1s\tremaining: 12.4s\n",
      "472:\tlearn: 0.0259307\ttotal: 11.1s\tremaining: 12.4s\n",
      "473:\tlearn: 0.0259214\ttotal: 11.1s\tremaining: 12.4s\n",
      "474:\tlearn: 0.0259085\ttotal: 11.2s\tremaining: 12.3s\n",
      "475:\tlearn: 0.0259012\ttotal: 11.2s\tremaining: 12.3s\n",
      "476:\tlearn: 0.0258866\ttotal: 11.2s\tremaining: 12.3s\n",
      "477:\tlearn: 0.0258790\ttotal: 11.2s\tremaining: 12.3s\n",
      "478:\tlearn: 0.0258618\ttotal: 11.2s\tremaining: 12.2s\n",
      "479:\tlearn: 0.0258453\ttotal: 11.3s\tremaining: 12.2s\n",
      "480:\tlearn: 0.0258368\ttotal: 11.3s\tremaining: 12.2s\n",
      "481:\tlearn: 0.0258226\ttotal: 11.3s\tremaining: 12.2s\n",
      "482:\tlearn: 0.0258106\ttotal: 11.3s\tremaining: 12.1s\n",
      "483:\tlearn: 0.0257952\ttotal: 11.4s\tremaining: 12.1s\n",
      "484:\tlearn: 0.0257857\ttotal: 11.4s\tremaining: 12.1s\n",
      "485:\tlearn: 0.0257703\ttotal: 11.4s\tremaining: 12.1s\n",
      "486:\tlearn: 0.0257498\ttotal: 11.4s\tremaining: 12s\n",
      "487:\tlearn: 0.0257333\ttotal: 11.4s\tremaining: 12s\n"
     ]
    },
    {
     "name": "stdout",
     "output_type": "stream",
     "text": [
      "488:\tlearn: 0.0257209\ttotal: 11.5s\tremaining: 12s\n",
      "489:\tlearn: 0.0257156\ttotal: 11.5s\tremaining: 12s\n",
      "490:\tlearn: 0.0256957\ttotal: 11.5s\tremaining: 11.9s\n",
      "491:\tlearn: 0.0256812\ttotal: 11.5s\tremaining: 11.9s\n",
      "492:\tlearn: 0.0256668\ttotal: 11.6s\tremaining: 11.9s\n",
      "493:\tlearn: 0.0256592\ttotal: 11.6s\tremaining: 11.9s\n",
      "494:\tlearn: 0.0256381\ttotal: 11.6s\tremaining: 11.8s\n",
      "495:\tlearn: 0.0256285\ttotal: 11.6s\tremaining: 11.8s\n",
      "496:\tlearn: 0.0256124\ttotal: 11.7s\tremaining: 11.8s\n",
      "497:\tlearn: 0.0255848\ttotal: 11.7s\tremaining: 11.8s\n",
      "498:\tlearn: 0.0255716\ttotal: 11.7s\tremaining: 11.7s\n",
      "499:\tlearn: 0.0255646\ttotal: 11.7s\tremaining: 11.7s\n",
      "500:\tlearn: 0.0255478\ttotal: 11.7s\tremaining: 11.7s\n",
      "501:\tlearn: 0.0255379\ttotal: 11.8s\tremaining: 11.7s\n",
      "502:\tlearn: 0.0255292\ttotal: 11.8s\tremaining: 11.6s\n",
      "503:\tlearn: 0.0255146\ttotal: 11.8s\tremaining: 11.6s\n",
      "504:\tlearn: 0.0255058\ttotal: 11.8s\tremaining: 11.6s\n",
      "505:\tlearn: 0.0254985\ttotal: 11.9s\tremaining: 11.6s\n",
      "506:\tlearn: 0.0254931\ttotal: 11.9s\tremaining: 11.5s\n",
      "507:\tlearn: 0.0254851\ttotal: 11.9s\tremaining: 11.5s\n",
      "508:\tlearn: 0.0254683\ttotal: 11.9s\tremaining: 11.5s\n",
      "509:\tlearn: 0.0254594\ttotal: 11.9s\tremaining: 11.5s\n",
      "510:\tlearn: 0.0254497\ttotal: 12s\tremaining: 11.4s\n",
      "511:\tlearn: 0.0254394\ttotal: 12s\tremaining: 11.4s\n",
      "512:\tlearn: 0.0254251\ttotal: 12s\tremaining: 11.4s\n",
      "513:\tlearn: 0.0254149\ttotal: 12s\tremaining: 11.4s\n",
      "514:\tlearn: 0.0254010\ttotal: 12.1s\tremaining: 11.4s\n",
      "515:\tlearn: 0.0253860\ttotal: 12.1s\tremaining: 11.3s\n",
      "516:\tlearn: 0.0253694\ttotal: 12.1s\tremaining: 11.3s\n",
      "517:\tlearn: 0.0253501\ttotal: 12.1s\tremaining: 11.3s\n",
      "518:\tlearn: 0.0253452\ttotal: 12.1s\tremaining: 11.3s\n",
      "519:\tlearn: 0.0253308\ttotal: 12.2s\tremaining: 11.2s\n",
      "520:\tlearn: 0.0253152\ttotal: 12.2s\tremaining: 11.2s\n",
      "521:\tlearn: 0.0253074\ttotal: 12.2s\tremaining: 11.2s\n",
      "522:\tlearn: 0.0252910\ttotal: 12.2s\tremaining: 11.2s\n",
      "523:\tlearn: 0.0252815\ttotal: 12.3s\tremaining: 11.1s\n",
      "524:\tlearn: 0.0252715\ttotal: 12.3s\tremaining: 11.1s\n",
      "525:\tlearn: 0.0252613\ttotal: 12.3s\tremaining: 11.1s\n",
      "526:\tlearn: 0.0252469\ttotal: 12.3s\tremaining: 11.1s\n",
      "527:\tlearn: 0.0252383\ttotal: 12.3s\tremaining: 11s\n",
      "528:\tlearn: 0.0252337\ttotal: 12.4s\tremaining: 11s\n",
      "529:\tlearn: 0.0252245\ttotal: 12.4s\tremaining: 11s\n",
      "530:\tlearn: 0.0252157\ttotal: 12.4s\tremaining: 11s\n",
      "531:\tlearn: 0.0252044\ttotal: 12.4s\tremaining: 10.9s\n",
      "532:\tlearn: 0.0251949\ttotal: 12.5s\tremaining: 10.9s\n",
      "533:\tlearn: 0.0251849\ttotal: 12.5s\tremaining: 10.9s\n",
      "534:\tlearn: 0.0251713\ttotal: 12.5s\tremaining: 10.9s\n",
      "535:\tlearn: 0.0251598\ttotal: 12.5s\tremaining: 10.8s\n",
      "536:\tlearn: 0.0251517\ttotal: 12.5s\tremaining: 10.8s\n",
      "537:\tlearn: 0.0251443\ttotal: 12.6s\tremaining: 10.8s\n",
      "538:\tlearn: 0.0251336\ttotal: 12.6s\tremaining: 10.8s\n",
      "539:\tlearn: 0.0251266\ttotal: 12.6s\tremaining: 10.7s\n",
      "540:\tlearn: 0.0251130\ttotal: 12.6s\tremaining: 10.7s\n",
      "541:\tlearn: 0.0251044\ttotal: 12.7s\tremaining: 10.7s\n",
      "542:\tlearn: 0.0250876\ttotal: 12.7s\tremaining: 10.7s\n",
      "543:\tlearn: 0.0250756\ttotal: 12.7s\tremaining: 10.6s\n",
      "544:\tlearn: 0.0250626\ttotal: 12.7s\tremaining: 10.6s\n",
      "545:\tlearn: 0.0250598\ttotal: 12.7s\tremaining: 10.6s\n",
      "546:\tlearn: 0.0250525\ttotal: 12.8s\tremaining: 10.6s\n",
      "547:\tlearn: 0.0250322\ttotal: 12.8s\tremaining: 10.5s\n",
      "548:\tlearn: 0.0250206\ttotal: 12.8s\tremaining: 10.5s\n",
      "549:\tlearn: 0.0250111\ttotal: 12.8s\tremaining: 10.5s\n",
      "550:\tlearn: 0.0249871\ttotal: 12.9s\tremaining: 10.5s\n",
      "551:\tlearn: 0.0249774\ttotal: 12.9s\tremaining: 10.4s\n",
      "552:\tlearn: 0.0249667\ttotal: 12.9s\tremaining: 10.4s\n",
      "553:\tlearn: 0.0249580\ttotal: 12.9s\tremaining: 10.4s\n",
      "554:\tlearn: 0.0249491\ttotal: 12.9s\tremaining: 10.4s\n",
      "555:\tlearn: 0.0249357\ttotal: 13s\tremaining: 10.3s\n",
      "556:\tlearn: 0.0249244\ttotal: 13s\tremaining: 10.3s\n",
      "557:\tlearn: 0.0249088\ttotal: 13s\tremaining: 10.3s\n",
      "558:\tlearn: 0.0249021\ttotal: 13s\tremaining: 10.3s\n",
      "559:\tlearn: 0.0248954\ttotal: 13.1s\tremaining: 10.3s\n",
      "560:\tlearn: 0.0248853\ttotal: 13.1s\tremaining: 10.2s\n",
      "561:\tlearn: 0.0248742\ttotal: 13.1s\tremaining: 10.2s\n",
      "562:\tlearn: 0.0248539\ttotal: 13.1s\tremaining: 10.2s\n",
      "563:\tlearn: 0.0248403\ttotal: 13.1s\tremaining: 10.2s\n",
      "564:\tlearn: 0.0248242\ttotal: 13.2s\tremaining: 10.1s\n",
      "565:\tlearn: 0.0248201\ttotal: 13.2s\tremaining: 10.1s\n",
      "566:\tlearn: 0.0248047\ttotal: 13.2s\tremaining: 10.1s\n",
      "567:\tlearn: 0.0247985\ttotal: 13.2s\tremaining: 10.1s\n",
      "568:\tlearn: 0.0247936\ttotal: 13.2s\tremaining: 10s\n",
      "569:\tlearn: 0.0247855\ttotal: 13.3s\tremaining: 10s\n",
      "570:\tlearn: 0.0247799\ttotal: 13.3s\tremaining: 9.98s\n",
      "571:\tlearn: 0.0247711\ttotal: 13.3s\tremaining: 9.96s\n",
      "572:\tlearn: 0.0247576\ttotal: 13.3s\tremaining: 9.94s\n",
      "573:\tlearn: 0.0247455\ttotal: 13.4s\tremaining: 9.91s\n",
      "574:\tlearn: 0.0247325\ttotal: 13.4s\tremaining: 9.89s\n",
      "575:\tlearn: 0.0247285\ttotal: 13.4s\tremaining: 9.87s\n",
      "576:\tlearn: 0.0247070\ttotal: 13.4s\tremaining: 9.84s\n",
      "577:\tlearn: 0.0246966\ttotal: 13.4s\tremaining: 9.82s\n",
      "578:\tlearn: 0.0246905\ttotal: 13.5s\tremaining: 9.79s\n",
      "579:\tlearn: 0.0246821\ttotal: 13.5s\tremaining: 9.77s\n",
      "580:\tlearn: 0.0246727\ttotal: 13.5s\tremaining: 9.74s\n",
      "581:\tlearn: 0.0246623\ttotal: 13.5s\tremaining: 9.72s\n",
      "582:\tlearn: 0.0246557\ttotal: 13.6s\tremaining: 9.7s\n",
      "583:\tlearn: 0.0246464\ttotal: 13.6s\tremaining: 9.68s\n",
      "584:\tlearn: 0.0246352\ttotal: 13.6s\tremaining: 9.65s\n",
      "585:\tlearn: 0.0246287\ttotal: 13.6s\tremaining: 9.63s\n",
      "586:\tlearn: 0.0246230\ttotal: 13.7s\tremaining: 9.61s\n",
      "587:\tlearn: 0.0246093\ttotal: 13.7s\tremaining: 9.58s\n",
      "588:\tlearn: 0.0245976\ttotal: 13.7s\tremaining: 9.56s\n",
      "589:\tlearn: 0.0245915\ttotal: 13.7s\tremaining: 9.53s\n",
      "590:\tlearn: 0.0245846\ttotal: 13.7s\tremaining: 9.51s\n",
      "591:\tlearn: 0.0245685\ttotal: 13.8s\tremaining: 9.49s\n",
      "592:\tlearn: 0.0245578\ttotal: 13.8s\tremaining: 9.46s\n",
      "593:\tlearn: 0.0245452\ttotal: 13.8s\tremaining: 9.44s\n",
      "594:\tlearn: 0.0245321\ttotal: 13.8s\tremaining: 9.41s\n",
      "595:\tlearn: 0.0245245\ttotal: 13.9s\tremaining: 9.39s\n",
      "596:\tlearn: 0.0245165\ttotal: 13.9s\tremaining: 9.37s\n",
      "597:\tlearn: 0.0245096\ttotal: 13.9s\tremaining: 9.34s\n",
      "598:\tlearn: 0.0244942\ttotal: 13.9s\tremaining: 9.32s\n",
      "599:\tlearn: 0.0244832\ttotal: 13.9s\tremaining: 9.29s\n",
      "600:\tlearn: 0.0244699\ttotal: 14s\tremaining: 9.27s\n",
      "601:\tlearn: 0.0244623\ttotal: 14s\tremaining: 9.25s\n",
      "602:\tlearn: 0.0244502\ttotal: 14s\tremaining: 9.22s\n",
      "603:\tlearn: 0.0244390\ttotal: 14s\tremaining: 9.2s\n",
      "604:\tlearn: 0.0244224\ttotal: 14.1s\tremaining: 9.17s\n",
      "605:\tlearn: 0.0244090\ttotal: 14.1s\tremaining: 9.15s\n",
      "606:\tlearn: 0.0244018\ttotal: 14.1s\tremaining: 9.13s\n",
      "607:\tlearn: 0.0243844\ttotal: 14.1s\tremaining: 9.1s\n",
      "608:\tlearn: 0.0243754\ttotal: 14.1s\tremaining: 9.08s\n",
      "609:\tlearn: 0.0243629\ttotal: 14.2s\tremaining: 9.06s\n",
      "610:\tlearn: 0.0243451\ttotal: 14.2s\tremaining: 9.03s\n",
      "611:\tlearn: 0.0243404\ttotal: 14.2s\tremaining: 9.01s\n",
      "612:\tlearn: 0.0243294\ttotal: 14.2s\tremaining: 8.98s\n",
      "613:\tlearn: 0.0243224\ttotal: 14.2s\tremaining: 8.96s\n",
      "614:\tlearn: 0.0243085\ttotal: 14.3s\tremaining: 8.93s\n",
      "615:\tlearn: 0.0242948\ttotal: 14.3s\tremaining: 8.91s\n",
      "616:\tlearn: 0.0242856\ttotal: 14.3s\tremaining: 8.89s\n",
      "617:\tlearn: 0.0242722\ttotal: 14.3s\tremaining: 8.86s\n",
      "618:\tlearn: 0.0242619\ttotal: 14.4s\tremaining: 8.84s\n",
      "619:\tlearn: 0.0242575\ttotal: 14.4s\tremaining: 8.82s\n",
      "620:\tlearn: 0.0242401\ttotal: 14.4s\tremaining: 8.79s\n",
      "621:\tlearn: 0.0242291\ttotal: 14.4s\tremaining: 8.77s\n",
      "622:\tlearn: 0.0242196\ttotal: 14.4s\tremaining: 8.74s\n",
      "623:\tlearn: 0.0241980\ttotal: 14.5s\tremaining: 8.72s\n",
      "624:\tlearn: 0.0241829\ttotal: 14.5s\tremaining: 8.7s\n",
      "625:\tlearn: 0.0241789\ttotal: 14.5s\tremaining: 8.67s\n",
      "626:\tlearn: 0.0241626\ttotal: 14.5s\tremaining: 8.65s\n",
      "627:\tlearn: 0.0241541\ttotal: 14.6s\tremaining: 8.63s\n",
      "628:\tlearn: 0.0241499\ttotal: 14.6s\tremaining: 8.6s\n",
      "629:\tlearn: 0.0241386\ttotal: 14.6s\tremaining: 8.58s\n",
      "630:\tlearn: 0.0241282\ttotal: 14.6s\tremaining: 8.55s\n",
      "631:\tlearn: 0.0241195\ttotal: 14.7s\tremaining: 8.53s\n",
      "632:\tlearn: 0.0241134\ttotal: 14.7s\tremaining: 8.51s\n",
      "633:\tlearn: 0.0241017\ttotal: 14.7s\tremaining: 8.48s\n",
      "634:\tlearn: 0.0240901\ttotal: 14.7s\tremaining: 8.46s\n",
      "635:\tlearn: 0.0240747\ttotal: 14.7s\tremaining: 8.44s\n",
      "636:\tlearn: 0.0240672\ttotal: 14.8s\tremaining: 8.41s\n",
      "637:\tlearn: 0.0240592\ttotal: 14.8s\tremaining: 8.39s\n",
      "638:\tlearn: 0.0240504\ttotal: 14.8s\tremaining: 8.36s\n",
      "639:\tlearn: 0.0240423\ttotal: 14.8s\tremaining: 8.34s\n",
      "640:\tlearn: 0.0240374\ttotal: 14.8s\tremaining: 8.32s\n",
      "641:\tlearn: 0.0240282\ttotal: 14.9s\tremaining: 8.29s\n",
      "642:\tlearn: 0.0240197\ttotal: 14.9s\tremaining: 8.27s\n",
      "643:\tlearn: 0.0240106\ttotal: 14.9s\tremaining: 8.25s\n",
      "644:\tlearn: 0.0239993\ttotal: 14.9s\tremaining: 8.22s\n",
      "645:\tlearn: 0.0239957\ttotal: 15s\tremaining: 8.2s\n",
      "646:\tlearn: 0.0239834\ttotal: 15s\tremaining: 8.17s\n",
      "647:\tlearn: 0.0239686\ttotal: 15s\tremaining: 8.15s\n",
      "648:\tlearn: 0.0239641\ttotal: 15s\tremaining: 8.13s\n",
      "649:\tlearn: 0.0239522\ttotal: 15s\tremaining: 8.1s\n"
     ]
    },
    {
     "name": "stdout",
     "output_type": "stream",
     "text": [
      "650:\tlearn: 0.0239366\ttotal: 15.1s\tremaining: 8.08s\n",
      "651:\tlearn: 0.0239305\ttotal: 15.1s\tremaining: 8.06s\n",
      "652:\tlearn: 0.0239198\ttotal: 15.1s\tremaining: 8.03s\n",
      "653:\tlearn: 0.0239139\ttotal: 15.1s\tremaining: 8.01s\n",
      "654:\tlearn: 0.0239026\ttotal: 15.2s\tremaining: 7.98s\n",
      "655:\tlearn: 0.0238869\ttotal: 15.2s\tremaining: 7.96s\n",
      "656:\tlearn: 0.0238835\ttotal: 15.2s\tremaining: 7.94s\n",
      "657:\tlearn: 0.0238743\ttotal: 15.2s\tremaining: 7.91s\n",
      "658:\tlearn: 0.0238634\ttotal: 15.2s\tremaining: 7.89s\n",
      "659:\tlearn: 0.0238533\ttotal: 15.3s\tremaining: 7.87s\n",
      "660:\tlearn: 0.0238379\ttotal: 15.3s\tremaining: 7.84s\n",
      "661:\tlearn: 0.0238292\ttotal: 15.3s\tremaining: 7.82s\n",
      "662:\tlearn: 0.0238204\ttotal: 15.3s\tremaining: 7.8s\n",
      "663:\tlearn: 0.0238097\ttotal: 15.4s\tremaining: 7.77s\n",
      "664:\tlearn: 0.0237958\ttotal: 15.4s\tremaining: 7.75s\n",
      "665:\tlearn: 0.0237893\ttotal: 15.4s\tremaining: 7.72s\n",
      "666:\tlearn: 0.0237780\ttotal: 15.4s\tremaining: 7.7s\n",
      "667:\tlearn: 0.0237596\ttotal: 15.5s\tremaining: 7.68s\n",
      "668:\tlearn: 0.0237509\ttotal: 15.5s\tremaining: 7.66s\n",
      "669:\tlearn: 0.0237440\ttotal: 15.5s\tremaining: 7.63s\n",
      "670:\tlearn: 0.0237364\ttotal: 15.5s\tremaining: 7.61s\n",
      "671:\tlearn: 0.0237235\ttotal: 15.5s\tremaining: 7.58s\n",
      "672:\tlearn: 0.0237165\ttotal: 15.6s\tremaining: 7.56s\n",
      "673:\tlearn: 0.0237108\ttotal: 15.6s\tremaining: 7.54s\n",
      "674:\tlearn: 0.0237052\ttotal: 15.6s\tremaining: 7.51s\n",
      "675:\tlearn: 0.0236909\ttotal: 15.6s\tremaining: 7.49s\n",
      "676:\tlearn: 0.0236836\ttotal: 15.7s\tremaining: 7.47s\n",
      "677:\tlearn: 0.0236765\ttotal: 15.7s\tremaining: 7.45s\n",
      "678:\tlearn: 0.0236650\ttotal: 15.7s\tremaining: 7.42s\n",
      "679:\tlearn: 0.0236566\ttotal: 15.7s\tremaining: 7.4s\n",
      "680:\tlearn: 0.0236485\ttotal: 15.7s\tremaining: 7.37s\n",
      "681:\tlearn: 0.0236419\ttotal: 15.8s\tremaining: 7.35s\n",
      "682:\tlearn: 0.0236355\ttotal: 15.8s\tremaining: 7.33s\n",
      "683:\tlearn: 0.0236229\ttotal: 15.8s\tremaining: 7.3s\n",
      "684:\tlearn: 0.0236115\ttotal: 15.8s\tremaining: 7.28s\n",
      "685:\tlearn: 0.0236061\ttotal: 15.9s\tremaining: 7.26s\n",
      "686:\tlearn: 0.0235999\ttotal: 15.9s\tremaining: 7.23s\n",
      "687:\tlearn: 0.0235935\ttotal: 15.9s\tremaining: 7.21s\n",
      "688:\tlearn: 0.0235847\ttotal: 15.9s\tremaining: 7.18s\n",
      "689:\tlearn: 0.0235773\ttotal: 15.9s\tremaining: 7.16s\n",
      "690:\tlearn: 0.0235672\ttotal: 16s\tremaining: 7.14s\n",
      "691:\tlearn: 0.0235617\ttotal: 16s\tremaining: 7.11s\n",
      "692:\tlearn: 0.0235442\ttotal: 16s\tremaining: 7.09s\n",
      "693:\tlearn: 0.0235389\ttotal: 16s\tremaining: 7.07s\n",
      "694:\tlearn: 0.0235293\ttotal: 16.1s\tremaining: 7.04s\n",
      "695:\tlearn: 0.0235192\ttotal: 16.1s\tremaining: 7.02s\n",
      "696:\tlearn: 0.0235101\ttotal: 16.1s\tremaining: 7s\n",
      "697:\tlearn: 0.0235063\ttotal: 16.1s\tremaining: 6.97s\n",
      "698:\tlearn: 0.0234989\ttotal: 16.1s\tremaining: 6.95s\n",
      "699:\tlearn: 0.0234868\ttotal: 16.2s\tremaining: 6.92s\n",
      "700:\tlearn: 0.0234802\ttotal: 16.2s\tremaining: 6.9s\n",
      "701:\tlearn: 0.0234723\ttotal: 16.2s\tremaining: 6.88s\n",
      "702:\tlearn: 0.0234592\ttotal: 16.2s\tremaining: 6.86s\n",
      "703:\tlearn: 0.0234537\ttotal: 16.3s\tremaining: 6.83s\n",
      "704:\tlearn: 0.0234390\ttotal: 16.3s\tremaining: 6.81s\n",
      "705:\tlearn: 0.0234305\ttotal: 16.3s\tremaining: 6.79s\n",
      "706:\tlearn: 0.0234244\ttotal: 16.3s\tremaining: 6.76s\n",
      "707:\tlearn: 0.0234211\ttotal: 16.3s\tremaining: 6.74s\n",
      "708:\tlearn: 0.0234168\ttotal: 16.4s\tremaining: 6.71s\n",
      "709:\tlearn: 0.0234111\ttotal: 16.4s\tremaining: 6.69s\n",
      "710:\tlearn: 0.0234057\ttotal: 16.4s\tremaining: 6.67s\n",
      "711:\tlearn: 0.0233877\ttotal: 16.4s\tremaining: 6.64s\n",
      "712:\tlearn: 0.0233766\ttotal: 16.4s\tremaining: 6.62s\n",
      "713:\tlearn: 0.0233702\ttotal: 16.5s\tremaining: 6.6s\n",
      "714:\tlearn: 0.0233587\ttotal: 16.5s\tremaining: 6.57s\n",
      "715:\tlearn: 0.0233510\ttotal: 16.5s\tremaining: 6.55s\n",
      "716:\tlearn: 0.0233445\ttotal: 16.5s\tremaining: 6.53s\n",
      "717:\tlearn: 0.0233287\ttotal: 16.6s\tremaining: 6.5s\n",
      "718:\tlearn: 0.0233170\ttotal: 16.6s\tremaining: 6.48s\n",
      "719:\tlearn: 0.0233058\ttotal: 16.6s\tremaining: 6.46s\n",
      "720:\tlearn: 0.0232957\ttotal: 16.6s\tremaining: 6.43s\n",
      "721:\tlearn: 0.0232790\ttotal: 16.6s\tremaining: 6.41s\n",
      "722:\tlearn: 0.0232642\ttotal: 16.7s\tremaining: 6.39s\n",
      "723:\tlearn: 0.0232533\ttotal: 16.7s\tremaining: 6.36s\n",
      "724:\tlearn: 0.0232382\ttotal: 16.7s\tremaining: 6.34s\n",
      "725:\tlearn: 0.0232297\ttotal: 16.7s\tremaining: 6.32s\n",
      "726:\tlearn: 0.0232212\ttotal: 16.8s\tremaining: 6.29s\n",
      "727:\tlearn: 0.0232170\ttotal: 16.8s\tremaining: 6.27s\n",
      "728:\tlearn: 0.0232095\ttotal: 16.8s\tremaining: 6.25s\n",
      "729:\tlearn: 0.0231872\ttotal: 16.8s\tremaining: 6.22s\n",
      "730:\tlearn: 0.0231822\ttotal: 16.8s\tremaining: 6.2s\n",
      "731:\tlearn: 0.0231707\ttotal: 16.9s\tremaining: 6.17s\n",
      "732:\tlearn: 0.0231651\ttotal: 16.9s\tremaining: 6.15s\n",
      "733:\tlearn: 0.0231614\ttotal: 16.9s\tremaining: 6.13s\n",
      "734:\tlearn: 0.0231444\ttotal: 16.9s\tremaining: 6.11s\n",
      "735:\tlearn: 0.0231357\ttotal: 17s\tremaining: 6.08s\n",
      "736:\tlearn: 0.0231277\ttotal: 17s\tremaining: 6.06s\n",
      "737:\tlearn: 0.0231212\ttotal: 17s\tremaining: 6.04s\n",
      "738:\tlearn: 0.0231175\ttotal: 17s\tremaining: 6.01s\n",
      "739:\tlearn: 0.0231104\ttotal: 17s\tremaining: 5.99s\n",
      "740:\tlearn: 0.0231042\ttotal: 17.1s\tremaining: 5.96s\n",
      "741:\tlearn: 0.0230891\ttotal: 17.1s\tremaining: 5.94s\n",
      "742:\tlearn: 0.0230798\ttotal: 17.1s\tremaining: 5.92s\n",
      "743:\tlearn: 0.0230735\ttotal: 17.1s\tremaining: 5.89s\n",
      "744:\tlearn: 0.0230648\ttotal: 17.2s\tremaining: 5.87s\n",
      "745:\tlearn: 0.0230500\ttotal: 17.2s\tremaining: 5.85s\n",
      "746:\tlearn: 0.0230427\ttotal: 17.2s\tremaining: 5.83s\n",
      "747:\tlearn: 0.0230297\ttotal: 17.2s\tremaining: 5.8s\n",
      "748:\tlearn: 0.0230232\ttotal: 17.2s\tremaining: 5.78s\n",
      "749:\tlearn: 0.0230163\ttotal: 17.3s\tremaining: 5.76s\n",
      "750:\tlearn: 0.0230105\ttotal: 17.3s\tremaining: 5.73s\n",
      "751:\tlearn: 0.0230006\ttotal: 17.3s\tremaining: 5.71s\n",
      "752:\tlearn: 0.0229923\ttotal: 17.3s\tremaining: 5.69s\n",
      "753:\tlearn: 0.0229838\ttotal: 17.4s\tremaining: 5.67s\n",
      "754:\tlearn: 0.0229699\ttotal: 17.4s\tremaining: 5.64s\n",
      "755:\tlearn: 0.0229591\ttotal: 17.4s\tremaining: 5.62s\n",
      "756:\tlearn: 0.0229456\ttotal: 17.4s\tremaining: 5.59s\n",
      "757:\tlearn: 0.0229330\ttotal: 17.5s\tremaining: 5.57s\n",
      "758:\tlearn: 0.0229231\ttotal: 17.5s\tremaining: 5.55s\n",
      "759:\tlearn: 0.0229156\ttotal: 17.5s\tremaining: 5.52s\n",
      "760:\tlearn: 0.0229092\ttotal: 17.5s\tremaining: 5.5s\n",
      "761:\tlearn: 0.0229036\ttotal: 17.5s\tremaining: 5.48s\n",
      "762:\tlearn: 0.0228962\ttotal: 17.6s\tremaining: 5.46s\n",
      "763:\tlearn: 0.0228872\ttotal: 17.6s\tremaining: 5.43s\n",
      "764:\tlearn: 0.0228765\ttotal: 17.6s\tremaining: 5.41s\n",
      "765:\tlearn: 0.0228643\ttotal: 17.6s\tremaining: 5.38s\n",
      "766:\tlearn: 0.0228505\ttotal: 17.6s\tremaining: 5.36s\n",
      "767:\tlearn: 0.0228413\ttotal: 17.7s\tremaining: 5.34s\n",
      "768:\tlearn: 0.0228264\ttotal: 17.7s\tremaining: 5.31s\n",
      "769:\tlearn: 0.0228161\ttotal: 17.7s\tremaining: 5.29s\n",
      "770:\tlearn: 0.0228043\ttotal: 17.7s\tremaining: 5.27s\n",
      "771:\tlearn: 0.0227986\ttotal: 17.8s\tremaining: 5.25s\n",
      "772:\tlearn: 0.0227887\ttotal: 17.8s\tremaining: 5.22s\n",
      "773:\tlearn: 0.0227719\ttotal: 17.8s\tremaining: 5.2s\n",
      "774:\tlearn: 0.0227657\ttotal: 17.8s\tremaining: 5.17s\n",
      "775:\tlearn: 0.0227525\ttotal: 17.8s\tremaining: 5.15s\n",
      "776:\tlearn: 0.0227472\ttotal: 17.9s\tremaining: 5.13s\n",
      "777:\tlearn: 0.0227396\ttotal: 17.9s\tremaining: 5.11s\n",
      "778:\tlearn: 0.0227355\ttotal: 17.9s\tremaining: 5.08s\n",
      "779:\tlearn: 0.0227202\ttotal: 17.9s\tremaining: 5.06s\n",
      "780:\tlearn: 0.0227131\ttotal: 18s\tremaining: 5.04s\n",
      "781:\tlearn: 0.0227059\ttotal: 18s\tremaining: 5.01s\n",
      "782:\tlearn: 0.0226980\ttotal: 18s\tremaining: 4.99s\n",
      "783:\tlearn: 0.0226930\ttotal: 18s\tremaining: 4.97s\n",
      "784:\tlearn: 0.0226846\ttotal: 18.1s\tremaining: 4.94s\n",
      "785:\tlearn: 0.0226720\ttotal: 18.1s\tremaining: 4.92s\n",
      "786:\tlearn: 0.0226624\ttotal: 18.1s\tremaining: 4.9s\n",
      "787:\tlearn: 0.0226515\ttotal: 18.1s\tremaining: 4.88s\n",
      "788:\tlearn: 0.0226346\ttotal: 18.1s\tremaining: 4.85s\n",
      "789:\tlearn: 0.0226302\ttotal: 18.2s\tremaining: 4.83s\n",
      "790:\tlearn: 0.0226243\ttotal: 18.2s\tremaining: 4.8s\n",
      "791:\tlearn: 0.0226174\ttotal: 18.2s\tremaining: 4.78s\n",
      "792:\tlearn: 0.0226112\ttotal: 18.2s\tremaining: 4.76s\n",
      "793:\tlearn: 0.0226018\ttotal: 18.3s\tremaining: 4.73s\n",
      "794:\tlearn: 0.0225980\ttotal: 18.3s\tremaining: 4.71s\n",
      "795:\tlearn: 0.0225899\ttotal: 18.3s\tremaining: 4.69s\n",
      "796:\tlearn: 0.0225796\ttotal: 18.3s\tremaining: 4.67s\n",
      "797:\tlearn: 0.0225663\ttotal: 18.3s\tremaining: 4.64s\n",
      "798:\tlearn: 0.0225575\ttotal: 18.4s\tremaining: 4.62s\n",
      "799:\tlearn: 0.0225424\ttotal: 18.4s\tremaining: 4.6s\n",
      "800:\tlearn: 0.0225262\ttotal: 18.4s\tremaining: 4.57s\n",
      "801:\tlearn: 0.0225221\ttotal: 18.4s\tremaining: 4.55s\n",
      "802:\tlearn: 0.0225115\ttotal: 18.5s\tremaining: 4.53s\n",
      "803:\tlearn: 0.0224994\ttotal: 18.5s\tremaining: 4.5s\n",
      "804:\tlearn: 0.0224855\ttotal: 18.5s\tremaining: 4.48s\n",
      "805:\tlearn: 0.0224791\ttotal: 18.5s\tremaining: 4.46s\n",
      "806:\tlearn: 0.0224754\ttotal: 18.5s\tremaining: 4.43s\n",
      "807:\tlearn: 0.0224662\ttotal: 18.6s\tremaining: 4.41s\n",
      "808:\tlearn: 0.0224552\ttotal: 18.6s\tremaining: 4.39s\n",
      "809:\tlearn: 0.0224460\ttotal: 18.6s\tremaining: 4.36s\n",
      "810:\tlearn: 0.0224417\ttotal: 18.6s\tremaining: 4.34s\n"
     ]
    },
    {
     "name": "stdout",
     "output_type": "stream",
     "text": [
      "811:\tlearn: 0.0224340\ttotal: 18.7s\tremaining: 4.32s\n",
      "812:\tlearn: 0.0224238\ttotal: 18.7s\tremaining: 4.29s\n",
      "813:\tlearn: 0.0224140\ttotal: 18.7s\tremaining: 4.27s\n",
      "814:\tlearn: 0.0223989\ttotal: 18.7s\tremaining: 4.25s\n",
      "815:\tlearn: 0.0223905\ttotal: 18.7s\tremaining: 4.23s\n",
      "816:\tlearn: 0.0223669\ttotal: 18.8s\tremaining: 4.2s\n",
      "817:\tlearn: 0.0223592\ttotal: 18.8s\tremaining: 4.18s\n",
      "818:\tlearn: 0.0223473\ttotal: 18.8s\tremaining: 4.16s\n",
      "819:\tlearn: 0.0223395\ttotal: 18.8s\tremaining: 4.13s\n",
      "820:\tlearn: 0.0223334\ttotal: 18.9s\tremaining: 4.11s\n",
      "821:\tlearn: 0.0223238\ttotal: 18.9s\tremaining: 4.09s\n",
      "822:\tlearn: 0.0223119\ttotal: 18.9s\tremaining: 4.06s\n",
      "823:\tlearn: 0.0223043\ttotal: 18.9s\tremaining: 4.04s\n",
      "824:\tlearn: 0.0222930\ttotal: 18.9s\tremaining: 4.02s\n",
      "825:\tlearn: 0.0222814\ttotal: 19s\tremaining: 4s\n",
      "826:\tlearn: 0.0222755\ttotal: 19s\tremaining: 3.97s\n",
      "827:\tlearn: 0.0222700\ttotal: 19s\tremaining: 3.95s\n",
      "828:\tlearn: 0.0222613\ttotal: 19s\tremaining: 3.92s\n",
      "829:\tlearn: 0.0222521\ttotal: 19.1s\tremaining: 3.9s\n",
      "830:\tlearn: 0.0222360\ttotal: 19.1s\tremaining: 3.88s\n",
      "831:\tlearn: 0.0222301\ttotal: 19.1s\tremaining: 3.86s\n",
      "832:\tlearn: 0.0222193\ttotal: 19.1s\tremaining: 3.83s\n",
      "833:\tlearn: 0.0222101\ttotal: 19.1s\tremaining: 3.81s\n",
      "834:\tlearn: 0.0222056\ttotal: 19.2s\tremaining: 3.79s\n",
      "835:\tlearn: 0.0221971\ttotal: 19.2s\tremaining: 3.76s\n",
      "836:\tlearn: 0.0221944\ttotal: 19.2s\tremaining: 3.74s\n",
      "837:\tlearn: 0.0221880\ttotal: 19.2s\tremaining: 3.72s\n",
      "838:\tlearn: 0.0221822\ttotal: 19.3s\tremaining: 3.69s\n",
      "839:\tlearn: 0.0221784\ttotal: 19.3s\tremaining: 3.67s\n",
      "840:\tlearn: 0.0221707\ttotal: 19.3s\tremaining: 3.65s\n",
      "841:\tlearn: 0.0221623\ttotal: 19.3s\tremaining: 3.62s\n",
      "842:\tlearn: 0.0221550\ttotal: 19.3s\tremaining: 3.6s\n",
      "843:\tlearn: 0.0221466\ttotal: 19.4s\tremaining: 3.58s\n",
      "844:\tlearn: 0.0221366\ttotal: 19.4s\tremaining: 3.56s\n",
      "845:\tlearn: 0.0221339\ttotal: 19.4s\tremaining: 3.53s\n",
      "846:\tlearn: 0.0221270\ttotal: 19.4s\tremaining: 3.51s\n",
      "847:\tlearn: 0.0221130\ttotal: 19.5s\tremaining: 3.49s\n",
      "848:\tlearn: 0.0221060\ttotal: 19.5s\tremaining: 3.46s\n",
      "849:\tlearn: 0.0221011\ttotal: 19.5s\tremaining: 3.44s\n",
      "850:\tlearn: 0.0220902\ttotal: 19.5s\tremaining: 3.42s\n",
      "851:\tlearn: 0.0220775\ttotal: 19.5s\tremaining: 3.39s\n",
      "852:\tlearn: 0.0220708\ttotal: 19.6s\tremaining: 3.37s\n",
      "853:\tlearn: 0.0220633\ttotal: 19.6s\tremaining: 3.35s\n",
      "854:\tlearn: 0.0220589\ttotal: 19.6s\tremaining: 3.32s\n",
      "855:\tlearn: 0.0220510\ttotal: 19.6s\tremaining: 3.3s\n",
      "856:\tlearn: 0.0220447\ttotal: 19.6s\tremaining: 3.28s\n",
      "857:\tlearn: 0.0220397\ttotal: 19.7s\tremaining: 3.25s\n",
      "858:\tlearn: 0.0220314\ttotal: 19.7s\tremaining: 3.23s\n",
      "859:\tlearn: 0.0220225\ttotal: 19.7s\tremaining: 3.21s\n",
      "860:\tlearn: 0.0220134\ttotal: 19.7s\tremaining: 3.19s\n",
      "861:\tlearn: 0.0220057\ttotal: 19.8s\tremaining: 3.16s\n",
      "862:\tlearn: 0.0219999\ttotal: 19.8s\tremaining: 3.14s\n",
      "863:\tlearn: 0.0219891\ttotal: 19.8s\tremaining: 3.12s\n",
      "864:\tlearn: 0.0219726\ttotal: 19.8s\tremaining: 3.09s\n",
      "865:\tlearn: 0.0219683\ttotal: 19.8s\tremaining: 3.07s\n",
      "866:\tlearn: 0.0219590\ttotal: 19.9s\tremaining: 3.05s\n",
      "867:\tlearn: 0.0219542\ttotal: 19.9s\tremaining: 3.02s\n",
      "868:\tlearn: 0.0219436\ttotal: 19.9s\tremaining: 3s\n",
      "869:\tlearn: 0.0219336\ttotal: 19.9s\tremaining: 2.98s\n",
      "870:\tlearn: 0.0219170\ttotal: 20s\tremaining: 2.96s\n",
      "871:\tlearn: 0.0219066\ttotal: 20s\tremaining: 2.93s\n",
      "872:\tlearn: 0.0219026\ttotal: 20s\tremaining: 2.91s\n",
      "873:\tlearn: 0.0218986\ttotal: 20s\tremaining: 2.89s\n",
      "874:\tlearn: 0.0218847\ttotal: 20s\tremaining: 2.86s\n",
      "875:\tlearn: 0.0218761\ttotal: 20.1s\tremaining: 2.84s\n",
      "876:\tlearn: 0.0218670\ttotal: 20.1s\tremaining: 2.82s\n",
      "877:\tlearn: 0.0218488\ttotal: 20.1s\tremaining: 2.79s\n",
      "878:\tlearn: 0.0218405\ttotal: 20.1s\tremaining: 2.77s\n",
      "879:\tlearn: 0.0218342\ttotal: 20.2s\tremaining: 2.75s\n",
      "880:\tlearn: 0.0218255\ttotal: 20.2s\tremaining: 2.73s\n",
      "881:\tlearn: 0.0218158\ttotal: 20.2s\tremaining: 2.7s\n",
      "882:\tlearn: 0.0218082\ttotal: 20.2s\tremaining: 2.68s\n",
      "883:\tlearn: 0.0218003\ttotal: 20.2s\tremaining: 2.66s\n",
      "884:\tlearn: 0.0217797\ttotal: 20.3s\tremaining: 2.63s\n",
      "885:\tlearn: 0.0217746\ttotal: 20.3s\tremaining: 2.61s\n",
      "886:\tlearn: 0.0217713\ttotal: 20.3s\tremaining: 2.59s\n",
      "887:\tlearn: 0.0217627\ttotal: 20.3s\tremaining: 2.56s\n",
      "888:\tlearn: 0.0217536\ttotal: 20.4s\tremaining: 2.54s\n",
      "889:\tlearn: 0.0217443\ttotal: 20.4s\tremaining: 2.52s\n",
      "890:\tlearn: 0.0217365\ttotal: 20.4s\tremaining: 2.5s\n",
      "891:\tlearn: 0.0217294\ttotal: 20.4s\tremaining: 2.47s\n",
      "892:\tlearn: 0.0217217\ttotal: 20.4s\tremaining: 2.45s\n",
      "893:\tlearn: 0.0217177\ttotal: 20.5s\tremaining: 2.43s\n",
      "894:\tlearn: 0.0217087\ttotal: 20.5s\tremaining: 2.4s\n",
      "895:\tlearn: 0.0216996\ttotal: 20.5s\tremaining: 2.38s\n",
      "896:\tlearn: 0.0216975\ttotal: 20.5s\tremaining: 2.36s\n",
      "897:\tlearn: 0.0216850\ttotal: 20.6s\tremaining: 2.33s\n",
      "898:\tlearn: 0.0216669\ttotal: 20.6s\tremaining: 2.31s\n",
      "899:\tlearn: 0.0216568\ttotal: 20.6s\tremaining: 2.29s\n",
      "900:\tlearn: 0.0216525\ttotal: 20.6s\tremaining: 2.27s\n",
      "901:\tlearn: 0.0216451\ttotal: 20.6s\tremaining: 2.24s\n",
      "902:\tlearn: 0.0216363\ttotal: 20.7s\tremaining: 2.22s\n",
      "903:\tlearn: 0.0216311\ttotal: 20.7s\tremaining: 2.2s\n",
      "904:\tlearn: 0.0216188\ttotal: 20.7s\tremaining: 2.17s\n",
      "905:\tlearn: 0.0216118\ttotal: 20.7s\tremaining: 2.15s\n",
      "906:\tlearn: 0.0216006\ttotal: 20.8s\tremaining: 2.13s\n",
      "907:\tlearn: 0.0215907\ttotal: 20.8s\tremaining: 2.1s\n",
      "908:\tlearn: 0.0215808\ttotal: 20.8s\tremaining: 2.08s\n",
      "909:\tlearn: 0.0215746\ttotal: 20.8s\tremaining: 2.06s\n",
      "910:\tlearn: 0.0215686\ttotal: 20.8s\tremaining: 2.04s\n",
      "911:\tlearn: 0.0215562\ttotal: 20.9s\tremaining: 2.01s\n",
      "912:\tlearn: 0.0215504\ttotal: 20.9s\tremaining: 1.99s\n",
      "913:\tlearn: 0.0215449\ttotal: 20.9s\tremaining: 1.97s\n",
      "914:\tlearn: 0.0215403\ttotal: 20.9s\tremaining: 1.95s\n",
      "915:\tlearn: 0.0215341\ttotal: 21s\tremaining: 1.92s\n",
      "916:\tlearn: 0.0215301\ttotal: 21s\tremaining: 1.9s\n",
      "917:\tlearn: 0.0215217\ttotal: 21s\tremaining: 1.88s\n",
      "918:\tlearn: 0.0215171\ttotal: 21s\tremaining: 1.85s\n",
      "919:\tlearn: 0.0215089\ttotal: 21s\tremaining: 1.83s\n",
      "920:\tlearn: 0.0215046\ttotal: 21.1s\tremaining: 1.81s\n",
      "921:\tlearn: 0.0214930\ttotal: 21.1s\tremaining: 1.78s\n",
      "922:\tlearn: 0.0214879\ttotal: 21.1s\tremaining: 1.76s\n",
      "923:\tlearn: 0.0214833\ttotal: 21.1s\tremaining: 1.74s\n",
      "924:\tlearn: 0.0214705\ttotal: 21.2s\tremaining: 1.72s\n",
      "925:\tlearn: 0.0214592\ttotal: 21.2s\tremaining: 1.69s\n",
      "926:\tlearn: 0.0214514\ttotal: 21.2s\tremaining: 1.67s\n",
      "927:\tlearn: 0.0214481\ttotal: 21.2s\tremaining: 1.65s\n",
      "928:\tlearn: 0.0214416\ttotal: 21.3s\tremaining: 1.62s\n",
      "929:\tlearn: 0.0214315\ttotal: 21.3s\tremaining: 1.6s\n",
      "930:\tlearn: 0.0214271\ttotal: 21.3s\tremaining: 1.58s\n",
      "931:\tlearn: 0.0214180\ttotal: 21.3s\tremaining: 1.55s\n",
      "932:\tlearn: 0.0214115\ttotal: 21.3s\tremaining: 1.53s\n",
      "933:\tlearn: 0.0214007\ttotal: 21.4s\tremaining: 1.51s\n",
      "934:\tlearn: 0.0213952\ttotal: 21.4s\tremaining: 1.49s\n",
      "935:\tlearn: 0.0213844\ttotal: 21.4s\tremaining: 1.46s\n",
      "936:\tlearn: 0.0213769\ttotal: 21.4s\tremaining: 1.44s\n",
      "937:\tlearn: 0.0213675\ttotal: 21.5s\tremaining: 1.42s\n",
      "938:\tlearn: 0.0213626\ttotal: 21.5s\tremaining: 1.4s\n",
      "939:\tlearn: 0.0213551\ttotal: 21.5s\tremaining: 1.37s\n",
      "940:\tlearn: 0.0213493\ttotal: 21.5s\tremaining: 1.35s\n",
      "941:\tlearn: 0.0213403\ttotal: 21.5s\tremaining: 1.33s\n",
      "942:\tlearn: 0.0213319\ttotal: 21.6s\tremaining: 1.3s\n",
      "943:\tlearn: 0.0213268\ttotal: 21.6s\tremaining: 1.28s\n",
      "944:\tlearn: 0.0213230\ttotal: 21.6s\tremaining: 1.26s\n",
      "945:\tlearn: 0.0213164\ttotal: 21.6s\tremaining: 1.24s\n",
      "946:\tlearn: 0.0213084\ttotal: 21.7s\tremaining: 1.21s\n",
      "947:\tlearn: 0.0213045\ttotal: 21.7s\tremaining: 1.19s\n",
      "948:\tlearn: 0.0212981\ttotal: 21.7s\tremaining: 1.17s\n",
      "949:\tlearn: 0.0212876\ttotal: 21.7s\tremaining: 1.14s\n",
      "950:\tlearn: 0.0212765\ttotal: 21.7s\tremaining: 1.12s\n",
      "951:\tlearn: 0.0212730\ttotal: 21.8s\tremaining: 1.1s\n",
      "952:\tlearn: 0.0212630\ttotal: 21.8s\tremaining: 1.07s\n",
      "953:\tlearn: 0.0212584\ttotal: 21.8s\tremaining: 1.05s\n",
      "954:\tlearn: 0.0212503\ttotal: 21.8s\tremaining: 1.03s\n",
      "955:\tlearn: 0.0212447\ttotal: 21.9s\tremaining: 1.01s\n",
      "956:\tlearn: 0.0212386\ttotal: 21.9s\tremaining: 983ms\n",
      "957:\tlearn: 0.0212341\ttotal: 21.9s\tremaining: 960ms\n",
      "958:\tlearn: 0.0212239\ttotal: 21.9s\tremaining: 937ms\n",
      "959:\tlearn: 0.0212132\ttotal: 21.9s\tremaining: 914ms\n",
      "960:\tlearn: 0.0212072\ttotal: 22s\tremaining: 892ms\n",
      "961:\tlearn: 0.0211967\ttotal: 22s\tremaining: 869ms\n",
      "962:\tlearn: 0.0211848\ttotal: 22s\tremaining: 846ms\n",
      "963:\tlearn: 0.0211820\ttotal: 22s\tremaining: 823ms\n",
      "964:\tlearn: 0.0211751\ttotal: 22.1s\tremaining: 800ms\n",
      "965:\tlearn: 0.0211694\ttotal: 22.1s\tremaining: 777ms\n",
      "966:\tlearn: 0.0211612\ttotal: 22.1s\tremaining: 754ms\n",
      "967:\tlearn: 0.0211542\ttotal: 22.1s\tremaining: 731ms\n",
      "968:\tlearn: 0.0211522\ttotal: 22.1s\tremaining: 708ms\n",
      "969:\tlearn: 0.0211478\ttotal: 22.2s\tremaining: 686ms\n",
      "970:\tlearn: 0.0211432\ttotal: 22.2s\tremaining: 663ms\n",
      "971:\tlearn: 0.0211406\ttotal: 22.2s\tremaining: 640ms\n"
     ]
    },
    {
     "name": "stdout",
     "output_type": "stream",
     "text": [
      "972:\tlearn: 0.0211323\ttotal: 22.2s\tremaining: 617ms\n",
      "973:\tlearn: 0.0211265\ttotal: 22.3s\tremaining: 594ms\n",
      "974:\tlearn: 0.0211172\ttotal: 22.3s\tremaining: 571ms\n",
      "975:\tlearn: 0.0211110\ttotal: 22.3s\tremaining: 548ms\n",
      "976:\tlearn: 0.0211045\ttotal: 22.3s\tremaining: 525ms\n",
      "977:\tlearn: 0.0210913\ttotal: 22.3s\tremaining: 503ms\n",
      "978:\tlearn: 0.0210842\ttotal: 22.4s\tremaining: 480ms\n",
      "979:\tlearn: 0.0210687\ttotal: 22.4s\tremaining: 457ms\n",
      "980:\tlearn: 0.0210620\ttotal: 22.4s\tremaining: 434ms\n",
      "981:\tlearn: 0.0210542\ttotal: 22.4s\tremaining: 411ms\n",
      "982:\tlearn: 0.0210487\ttotal: 22.5s\tremaining: 388ms\n",
      "983:\tlearn: 0.0210366\ttotal: 22.5s\tremaining: 366ms\n",
      "984:\tlearn: 0.0210259\ttotal: 22.5s\tremaining: 343ms\n",
      "985:\tlearn: 0.0210155\ttotal: 22.5s\tremaining: 320ms\n",
      "986:\tlearn: 0.0210124\ttotal: 22.5s\tremaining: 297ms\n",
      "987:\tlearn: 0.0210078\ttotal: 22.6s\tremaining: 274ms\n",
      "988:\tlearn: 0.0210023\ttotal: 22.6s\tremaining: 251ms\n",
      "989:\tlearn: 0.0209934\ttotal: 22.6s\tremaining: 228ms\n",
      "990:\tlearn: 0.0209877\ttotal: 22.6s\tremaining: 206ms\n",
      "991:\tlearn: 0.0209798\ttotal: 22.7s\tremaining: 183ms\n",
      "992:\tlearn: 0.0209690\ttotal: 22.7s\tremaining: 160ms\n",
      "993:\tlearn: 0.0209591\ttotal: 22.7s\tremaining: 137ms\n",
      "994:\tlearn: 0.0209503\ttotal: 22.7s\tremaining: 114ms\n",
      "995:\tlearn: 0.0209437\ttotal: 22.7s\tremaining: 91.3ms\n",
      "996:\tlearn: 0.0209350\ttotal: 22.8s\tremaining: 68.5ms\n",
      "997:\tlearn: 0.0209266\ttotal: 22.8s\tremaining: 45.7ms\n",
      "998:\tlearn: 0.0209087\ttotal: 22.8s\tremaining: 22.8ms\n",
      "999:\tlearn: 0.0209034\ttotal: 22.8s\tremaining: 0us\n",
      "23.700158834457397\n",
      "fitting done !!!\n",
      "              precision    recall  f1-score   support\n",
      "\n",
      "           0     0.9651    0.9666    0.9659      6014\n",
      "           1     0.9728    0.9798    0.9763      5953\n",
      "           2     0.9939    0.9973    0.9956      5920\n",
      "           3     0.9761    0.9664    0.9712      6077\n",
      "           4     0.9706    0.9687    0.9697      6036\n",
      "\n",
      "    accuracy                         0.9757     30000\n",
      "   macro avg     0.9757    0.9758    0.9757     30000\n",
      "weighted avg     0.9757    0.9757    0.9757     30000\n",
      "\n"
     ]
    }
   ],
   "source": [
    "from catboost import CatBoostClassifier\n",
    "cb = CatBoostClassifier()\n",
    "start = time.time() # Measuring the processing time\n",
    "cb.fit(feat_train,np.argmax(y_train,axis=1))\n",
    "end = time.time()\n",
    "print(end - start) # Total\n",
    "\n",
    "print('fitting done !!!')\n",
    "Pred_labels = et.predict(feat_test)\n",
    "print(classification_report(Pred_labels, np.argmax(y_test,axis =1), digits=4))"
   ]
  },
  {
   "cell_type": "code",
   "execution_count": 58,
   "metadata": {},
   "outputs": [],
   "source": [
    "estimators = list()\n",
    "estimators.append(('RF', RandomForestClassifier()))\n",
    "estimators.append(('LR', LogisticRegression()))\n",
    "estimators.append(('DTC', DecisionTreeClassifier()))\n",
    "estimators.append(('KNN', KNeighborsClassifier()))\n",
    "estimators.append(('LDA', LinearDiscriminantAnalysis()))\n",
    "estimators.append(('NB', GaussianNB()))\n",
    "#estimators.append(('SVM', GradientBoostingClassifier(learning_rate=0.01, n_estimators=1500,max_depth=4, min_samples_split=40, min_samples_leaf=7,max_features=4 , subsample=0.95, random_state=10)))\n",
    "estimators.append(('XGB', XGBClassifier()))"
   ]
  },
  {
   "cell_type": "code",
   "execution_count": 59,
   "metadata": {},
   "outputs": [
    {
     "name": "stdout",
     "output_type": "stream",
     "text": [
      "12.870599746704102\n",
      "fitting done !!!\n",
      "              precision    recall  f1-score   support\n",
      "\n",
      "           0     0.9673    0.9747    0.9710      5977\n",
      "           1     0.9787    0.9808    0.9797      5983\n",
      "           2     0.9941    0.9981    0.9961      5916\n",
      "           3     0.9776    0.9717    0.9746      6053\n",
      "           4     0.9786    0.9710    0.9748      6071\n",
      "\n",
      "    accuracy                         0.9792     30000\n",
      "   macro avg     0.9792    0.9793    0.9793     30000\n",
      "weighted avg     0.9792    0.9792    0.9792     30000\n",
      "\n"
     ]
    }
   ],
   "source": [
    "ensemble = VotingClassifier(estimators=estimators, voting='soft')\n",
    "start = time.time() # Measuring the processing time\n",
    "ensemble.fit(feat_train,np.argmax(y_train,axis=1))\n",
    "end = time.time()\n",
    "print(end - start)\n",
    "\n",
    "print('fitting done !!!')\n",
    "Pred_labels = ensemble.predict(feat_test)\n",
    "print(classification_report(Pred_labels, np.argmax(y_test,axis =1),digits=4))"
   ]
  },
  {
   "cell_type": "code",
   "execution_count": 60,
   "metadata": {},
   "outputs": [
    {
     "data": {
      "image/png": "[encoded data removed]",
      "text/plain": [
       "<Figure size 864x864 with 2 Axes>"
      ]
     },
     "metadata": {
      "needs_background": "light"
     },
     "output_type": "display_data"
    }
   ],
   "source": [
    "plot_heatmap(confusion_matrix(pred, np.argmax(y_test,axis =1)),'VEC')"
   ]
  },
  {
   "cell_type": "code",
   "execution_count": null,
   "metadata": {},
   "outputs": [],
   "source": []
  }
 ],
 "metadata": {
  "kernelspec": {
   "display_name": "Python 3 (ipykernel)",
   "language": "python",
   "name": "python3"
  },
  "language_info": {
   "codemirror_mode": {
    "name": "ipython",
    "version": 3
   },
   "file_extension": ".py",
   "mimetype": "text/x-python",
   "name": "python",
   "nbconvert_exporter": "python",
   "pygments_lexer": "ipython3",
   "version": "3.9.12"
  }
 },
 "nbformat": 4,
 "nbformat_minor": 2
}
